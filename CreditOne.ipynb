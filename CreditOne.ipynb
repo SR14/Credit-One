{
 "cells": [
  {
   "cell_type": "markdown",
   "metadata": {},
   "source": [
    "# Importing Data"
   ]
  },
  {
   "cell_type": "code",
   "execution_count": 1,
   "metadata": {},
   "outputs": [],
   "source": [
    "import pandas as pd\n",
    "import numpy as np"
   ]
  },
  {
   "cell_type": "code",
   "execution_count": 2,
   "metadata": {},
   "outputs": [
    {
     "data": {
      "text/html": [
       "<div>\n",
       "<style scoped>\n",
       "    .dataframe tbody tr th:only-of-type {\n",
       "        vertical-align: middle;\n",
       "    }\n",
       "\n",
       "    .dataframe tbody tr th {\n",
       "        vertical-align: top;\n",
       "    }\n",
       "\n",
       "    .dataframe thead th {\n",
       "        text-align: right;\n",
       "    }\n",
       "</style>\n",
       "<table border=\"1\" class=\"dataframe\">\n",
       "  <thead>\n",
       "    <tr style=\"text-align: right;\">\n",
       "      <th></th>\n",
       "      <th>ID</th>\n",
       "      <th>LIMIT_BAL</th>\n",
       "      <th>SEX</th>\n",
       "      <th>EDUCATION</th>\n",
       "      <th>MARRIAGE</th>\n",
       "      <th>AGE</th>\n",
       "      <th>PAY_0</th>\n",
       "      <th>PAY_2</th>\n",
       "      <th>PAY_3</th>\n",
       "      <th>PAY_4</th>\n",
       "      <th>...</th>\n",
       "      <th>BILL_AMT4</th>\n",
       "      <th>BILL_AMT5</th>\n",
       "      <th>BILL_AMT6</th>\n",
       "      <th>PAY_AMT1</th>\n",
       "      <th>PAY_AMT2</th>\n",
       "      <th>PAY_AMT3</th>\n",
       "      <th>PAY_AMT4</th>\n",
       "      <th>PAY_AMT5</th>\n",
       "      <th>PAY_AMT6</th>\n",
       "      <th>default payment next month</th>\n",
       "    </tr>\n",
       "  </thead>\n",
       "  <tbody>\n",
       "    <tr>\n",
       "      <th>0</th>\n",
       "      <td>1</td>\n",
       "      <td>20000</td>\n",
       "      <td>2</td>\n",
       "      <td>2</td>\n",
       "      <td>1</td>\n",
       "      <td>24</td>\n",
       "      <td>2</td>\n",
       "      <td>2</td>\n",
       "      <td>-1</td>\n",
       "      <td>-1</td>\n",
       "      <td>...</td>\n",
       "      <td>0</td>\n",
       "      <td>0</td>\n",
       "      <td>0</td>\n",
       "      <td>0</td>\n",
       "      <td>689</td>\n",
       "      <td>0</td>\n",
       "      <td>0</td>\n",
       "      <td>0</td>\n",
       "      <td>0</td>\n",
       "      <td>1</td>\n",
       "    </tr>\n",
       "    <tr>\n",
       "      <th>1</th>\n",
       "      <td>2</td>\n",
       "      <td>120000</td>\n",
       "      <td>2</td>\n",
       "      <td>2</td>\n",
       "      <td>2</td>\n",
       "      <td>26</td>\n",
       "      <td>-1</td>\n",
       "      <td>2</td>\n",
       "      <td>0</td>\n",
       "      <td>0</td>\n",
       "      <td>...</td>\n",
       "      <td>3272</td>\n",
       "      <td>3455</td>\n",
       "      <td>3261</td>\n",
       "      <td>0</td>\n",
       "      <td>1000</td>\n",
       "      <td>1000</td>\n",
       "      <td>1000</td>\n",
       "      <td>0</td>\n",
       "      <td>2000</td>\n",
       "      <td>1</td>\n",
       "    </tr>\n",
       "    <tr>\n",
       "      <th>2</th>\n",
       "      <td>3</td>\n",
       "      <td>90000</td>\n",
       "      <td>2</td>\n",
       "      <td>2</td>\n",
       "      <td>2</td>\n",
       "      <td>34</td>\n",
       "      <td>0</td>\n",
       "      <td>0</td>\n",
       "      <td>0</td>\n",
       "      <td>0</td>\n",
       "      <td>...</td>\n",
       "      <td>14331</td>\n",
       "      <td>14948</td>\n",
       "      <td>15549</td>\n",
       "      <td>1518</td>\n",
       "      <td>1500</td>\n",
       "      <td>1000</td>\n",
       "      <td>1000</td>\n",
       "      <td>1000</td>\n",
       "      <td>5000</td>\n",
       "      <td>0</td>\n",
       "    </tr>\n",
       "    <tr>\n",
       "      <th>3</th>\n",
       "      <td>4</td>\n",
       "      <td>50000</td>\n",
       "      <td>2</td>\n",
       "      <td>2</td>\n",
       "      <td>1</td>\n",
       "      <td>37</td>\n",
       "      <td>0</td>\n",
       "      <td>0</td>\n",
       "      <td>0</td>\n",
       "      <td>0</td>\n",
       "      <td>...</td>\n",
       "      <td>28314</td>\n",
       "      <td>28959</td>\n",
       "      <td>29547</td>\n",
       "      <td>2000</td>\n",
       "      <td>2019</td>\n",
       "      <td>1200</td>\n",
       "      <td>1100</td>\n",
       "      <td>1069</td>\n",
       "      <td>1000</td>\n",
       "      <td>0</td>\n",
       "    </tr>\n",
       "    <tr>\n",
       "      <th>4</th>\n",
       "      <td>5</td>\n",
       "      <td>50000</td>\n",
       "      <td>1</td>\n",
       "      <td>2</td>\n",
       "      <td>1</td>\n",
       "      <td>57</td>\n",
       "      <td>-1</td>\n",
       "      <td>0</td>\n",
       "      <td>-1</td>\n",
       "      <td>0</td>\n",
       "      <td>...</td>\n",
       "      <td>20940</td>\n",
       "      <td>19146</td>\n",
       "      <td>19131</td>\n",
       "      <td>2000</td>\n",
       "      <td>36681</td>\n",
       "      <td>10000</td>\n",
       "      <td>9000</td>\n",
       "      <td>689</td>\n",
       "      <td>679</td>\n",
       "      <td>0</td>\n",
       "    </tr>\n",
       "  </tbody>\n",
       "</table>\n",
       "<p>5 rows × 25 columns</p>\n",
       "</div>"
      ],
      "text/plain": [
       "   ID  LIMIT_BAL  SEX  EDUCATION  MARRIAGE  AGE  PAY_0  PAY_2  PAY_3  PAY_4  \\\n",
       "0   1      20000    2          2         1   24      2      2     -1     -1   \n",
       "1   2     120000    2          2         2   26     -1      2      0      0   \n",
       "2   3      90000    2          2         2   34      0      0      0      0   \n",
       "3   4      50000    2          2         1   37      0      0      0      0   \n",
       "4   5      50000    1          2         1   57     -1      0     -1      0   \n",
       "\n",
       "              ...              BILL_AMT4  BILL_AMT5  BILL_AMT6  PAY_AMT1  \\\n",
       "0             ...                      0          0          0         0   \n",
       "1             ...                   3272       3455       3261         0   \n",
       "2             ...                  14331      14948      15549      1518   \n",
       "3             ...                  28314      28959      29547      2000   \n",
       "4             ...                  20940      19146      19131      2000   \n",
       "\n",
       "   PAY_AMT2  PAY_AMT3  PAY_AMT4  PAY_AMT5  PAY_AMT6  \\\n",
       "0       689         0         0         0         0   \n",
       "1      1000      1000      1000         0      2000   \n",
       "2      1500      1000      1000      1000      5000   \n",
       "3      2019      1200      1100      1069      1000   \n",
       "4     36681     10000      9000       689       679   \n",
       "\n",
       "   default payment next month  \n",
       "0                           1  \n",
       "1                           1  \n",
       "2                           0  \n",
       "3                           0  \n",
       "4                           0  \n",
       "\n",
       "[5 rows x 25 columns]"
      ]
     },
     "execution_count": 2,
     "metadata": {},
     "output_type": "execute_result"
    }
   ],
   "source": [
    "credit = pd.read_csv('default of credit card clients.csv', header = 1)\n",
    "credit.head()"
   ]
  },
  {
   "cell_type": "code",
   "execution_count": 3,
   "metadata": {},
   "outputs": [
    {
     "data": {
      "text/html": [
       "<div>\n",
       "<style scoped>\n",
       "    .dataframe tbody tr th:only-of-type {\n",
       "        vertical-align: middle;\n",
       "    }\n",
       "\n",
       "    .dataframe tbody tr th {\n",
       "        vertical-align: top;\n",
       "    }\n",
       "\n",
       "    .dataframe thead th {\n",
       "        text-align: right;\n",
       "    }\n",
       "</style>\n",
       "<table border=\"1\" class=\"dataframe\">\n",
       "  <thead>\n",
       "    <tr style=\"text-align: right;\">\n",
       "      <th></th>\n",
       "      <th>ID</th>\n",
       "      <th>LIMIT_BAL</th>\n",
       "      <th>SEX</th>\n",
       "      <th>EDUCATION</th>\n",
       "      <th>MARRIAGE</th>\n",
       "      <th>AGE</th>\n",
       "      <th>PAY_0</th>\n",
       "      <th>PAY_2</th>\n",
       "      <th>PAY_3</th>\n",
       "      <th>PAY_4</th>\n",
       "      <th>...</th>\n",
       "      <th>BILL_AMT4</th>\n",
       "      <th>BILL_AMT5</th>\n",
       "      <th>BILL_AMT6</th>\n",
       "      <th>PAY_AMT1</th>\n",
       "      <th>PAY_AMT2</th>\n",
       "      <th>PAY_AMT3</th>\n",
       "      <th>PAY_AMT4</th>\n",
       "      <th>PAY_AMT5</th>\n",
       "      <th>PAY_AMT6</th>\n",
       "      <th>default payment next month</th>\n",
       "    </tr>\n",
       "  </thead>\n",
       "  <tbody>\n",
       "    <tr>\n",
       "      <th>count</th>\n",
       "      <td>30000.000000</td>\n",
       "      <td>30000.000000</td>\n",
       "      <td>30000.000000</td>\n",
       "      <td>30000.000000</td>\n",
       "      <td>30000.000000</td>\n",
       "      <td>30000.000000</td>\n",
       "      <td>30000.000000</td>\n",
       "      <td>30000.000000</td>\n",
       "      <td>30000.000000</td>\n",
       "      <td>30000.000000</td>\n",
       "      <td>...</td>\n",
       "      <td>30000.000000</td>\n",
       "      <td>30000.000000</td>\n",
       "      <td>30000.000000</td>\n",
       "      <td>30000.000000</td>\n",
       "      <td>3.000000e+04</td>\n",
       "      <td>30000.00000</td>\n",
       "      <td>30000.000000</td>\n",
       "      <td>30000.000000</td>\n",
       "      <td>30000.000000</td>\n",
       "      <td>30000.000000</td>\n",
       "    </tr>\n",
       "    <tr>\n",
       "      <th>mean</th>\n",
       "      <td>15000.500000</td>\n",
       "      <td>167484.322667</td>\n",
       "      <td>1.603733</td>\n",
       "      <td>1.853133</td>\n",
       "      <td>1.551867</td>\n",
       "      <td>35.485500</td>\n",
       "      <td>-0.016700</td>\n",
       "      <td>-0.133767</td>\n",
       "      <td>-0.166200</td>\n",
       "      <td>-0.220667</td>\n",
       "      <td>...</td>\n",
       "      <td>43262.948967</td>\n",
       "      <td>40311.400967</td>\n",
       "      <td>38871.760400</td>\n",
       "      <td>5663.580500</td>\n",
       "      <td>5.921163e+03</td>\n",
       "      <td>5225.68150</td>\n",
       "      <td>4826.076867</td>\n",
       "      <td>4799.387633</td>\n",
       "      <td>5215.502567</td>\n",
       "      <td>0.221200</td>\n",
       "    </tr>\n",
       "    <tr>\n",
       "      <th>std</th>\n",
       "      <td>8660.398374</td>\n",
       "      <td>129747.661567</td>\n",
       "      <td>0.489129</td>\n",
       "      <td>0.790349</td>\n",
       "      <td>0.521970</td>\n",
       "      <td>9.217904</td>\n",
       "      <td>1.123802</td>\n",
       "      <td>1.197186</td>\n",
       "      <td>1.196868</td>\n",
       "      <td>1.169139</td>\n",
       "      <td>...</td>\n",
       "      <td>64332.856134</td>\n",
       "      <td>60797.155770</td>\n",
       "      <td>59554.107537</td>\n",
       "      <td>16563.280354</td>\n",
       "      <td>2.304087e+04</td>\n",
       "      <td>17606.96147</td>\n",
       "      <td>15666.159744</td>\n",
       "      <td>15278.305679</td>\n",
       "      <td>17777.465775</td>\n",
       "      <td>0.415062</td>\n",
       "    </tr>\n",
       "    <tr>\n",
       "      <th>min</th>\n",
       "      <td>1.000000</td>\n",
       "      <td>10000.000000</td>\n",
       "      <td>1.000000</td>\n",
       "      <td>0.000000</td>\n",
       "      <td>0.000000</td>\n",
       "      <td>21.000000</td>\n",
       "      <td>-2.000000</td>\n",
       "      <td>-2.000000</td>\n",
       "      <td>-2.000000</td>\n",
       "      <td>-2.000000</td>\n",
       "      <td>...</td>\n",
       "      <td>-170000.000000</td>\n",
       "      <td>-81334.000000</td>\n",
       "      <td>-339603.000000</td>\n",
       "      <td>0.000000</td>\n",
       "      <td>0.000000e+00</td>\n",
       "      <td>0.00000</td>\n",
       "      <td>0.000000</td>\n",
       "      <td>0.000000</td>\n",
       "      <td>0.000000</td>\n",
       "      <td>0.000000</td>\n",
       "    </tr>\n",
       "    <tr>\n",
       "      <th>25%</th>\n",
       "      <td>7500.750000</td>\n",
       "      <td>50000.000000</td>\n",
       "      <td>1.000000</td>\n",
       "      <td>1.000000</td>\n",
       "      <td>1.000000</td>\n",
       "      <td>28.000000</td>\n",
       "      <td>-1.000000</td>\n",
       "      <td>-1.000000</td>\n",
       "      <td>-1.000000</td>\n",
       "      <td>-1.000000</td>\n",
       "      <td>...</td>\n",
       "      <td>2326.750000</td>\n",
       "      <td>1763.000000</td>\n",
       "      <td>1256.000000</td>\n",
       "      <td>1000.000000</td>\n",
       "      <td>8.330000e+02</td>\n",
       "      <td>390.00000</td>\n",
       "      <td>296.000000</td>\n",
       "      <td>252.500000</td>\n",
       "      <td>117.750000</td>\n",
       "      <td>0.000000</td>\n",
       "    </tr>\n",
       "    <tr>\n",
       "      <th>50%</th>\n",
       "      <td>15000.500000</td>\n",
       "      <td>140000.000000</td>\n",
       "      <td>2.000000</td>\n",
       "      <td>2.000000</td>\n",
       "      <td>2.000000</td>\n",
       "      <td>34.000000</td>\n",
       "      <td>0.000000</td>\n",
       "      <td>0.000000</td>\n",
       "      <td>0.000000</td>\n",
       "      <td>0.000000</td>\n",
       "      <td>...</td>\n",
       "      <td>19052.000000</td>\n",
       "      <td>18104.500000</td>\n",
       "      <td>17071.000000</td>\n",
       "      <td>2100.000000</td>\n",
       "      <td>2.009000e+03</td>\n",
       "      <td>1800.00000</td>\n",
       "      <td>1500.000000</td>\n",
       "      <td>1500.000000</td>\n",
       "      <td>1500.000000</td>\n",
       "      <td>0.000000</td>\n",
       "    </tr>\n",
       "    <tr>\n",
       "      <th>75%</th>\n",
       "      <td>22500.250000</td>\n",
       "      <td>240000.000000</td>\n",
       "      <td>2.000000</td>\n",
       "      <td>2.000000</td>\n",
       "      <td>2.000000</td>\n",
       "      <td>41.000000</td>\n",
       "      <td>0.000000</td>\n",
       "      <td>0.000000</td>\n",
       "      <td>0.000000</td>\n",
       "      <td>0.000000</td>\n",
       "      <td>...</td>\n",
       "      <td>54506.000000</td>\n",
       "      <td>50190.500000</td>\n",
       "      <td>49198.250000</td>\n",
       "      <td>5006.000000</td>\n",
       "      <td>5.000000e+03</td>\n",
       "      <td>4505.00000</td>\n",
       "      <td>4013.250000</td>\n",
       "      <td>4031.500000</td>\n",
       "      <td>4000.000000</td>\n",
       "      <td>0.000000</td>\n",
       "    </tr>\n",
       "    <tr>\n",
       "      <th>max</th>\n",
       "      <td>30000.000000</td>\n",
       "      <td>1000000.000000</td>\n",
       "      <td>2.000000</td>\n",
       "      <td>6.000000</td>\n",
       "      <td>3.000000</td>\n",
       "      <td>79.000000</td>\n",
       "      <td>8.000000</td>\n",
       "      <td>8.000000</td>\n",
       "      <td>8.000000</td>\n",
       "      <td>8.000000</td>\n",
       "      <td>...</td>\n",
       "      <td>891586.000000</td>\n",
       "      <td>927171.000000</td>\n",
       "      <td>961664.000000</td>\n",
       "      <td>873552.000000</td>\n",
       "      <td>1.684259e+06</td>\n",
       "      <td>896040.00000</td>\n",
       "      <td>621000.000000</td>\n",
       "      <td>426529.000000</td>\n",
       "      <td>528666.000000</td>\n",
       "      <td>1.000000</td>\n",
       "    </tr>\n",
       "  </tbody>\n",
       "</table>\n",
       "<p>8 rows × 25 columns</p>\n",
       "</div>"
      ],
      "text/plain": [
       "                 ID       LIMIT_BAL           SEX     EDUCATION      MARRIAGE  \\\n",
       "count  30000.000000    30000.000000  30000.000000  30000.000000  30000.000000   \n",
       "mean   15000.500000   167484.322667      1.603733      1.853133      1.551867   \n",
       "std     8660.398374   129747.661567      0.489129      0.790349      0.521970   \n",
       "min        1.000000    10000.000000      1.000000      0.000000      0.000000   \n",
       "25%     7500.750000    50000.000000      1.000000      1.000000      1.000000   \n",
       "50%    15000.500000   140000.000000      2.000000      2.000000      2.000000   \n",
       "75%    22500.250000   240000.000000      2.000000      2.000000      2.000000   \n",
       "max    30000.000000  1000000.000000      2.000000      6.000000      3.000000   \n",
       "\n",
       "                AGE         PAY_0         PAY_2         PAY_3         PAY_4  \\\n",
       "count  30000.000000  30000.000000  30000.000000  30000.000000  30000.000000   \n",
       "mean      35.485500     -0.016700     -0.133767     -0.166200     -0.220667   \n",
       "std        9.217904      1.123802      1.197186      1.196868      1.169139   \n",
       "min       21.000000     -2.000000     -2.000000     -2.000000     -2.000000   \n",
       "25%       28.000000     -1.000000     -1.000000     -1.000000     -1.000000   \n",
       "50%       34.000000      0.000000      0.000000      0.000000      0.000000   \n",
       "75%       41.000000      0.000000      0.000000      0.000000      0.000000   \n",
       "max       79.000000      8.000000      8.000000      8.000000      8.000000   \n",
       "\n",
       "                  ...                  BILL_AMT4      BILL_AMT5  \\\n",
       "count             ...               30000.000000   30000.000000   \n",
       "mean              ...               43262.948967   40311.400967   \n",
       "std               ...               64332.856134   60797.155770   \n",
       "min               ...             -170000.000000  -81334.000000   \n",
       "25%               ...                2326.750000    1763.000000   \n",
       "50%               ...               19052.000000   18104.500000   \n",
       "75%               ...               54506.000000   50190.500000   \n",
       "max               ...              891586.000000  927171.000000   \n",
       "\n",
       "           BILL_AMT6       PAY_AMT1      PAY_AMT2      PAY_AMT3  \\\n",
       "count   30000.000000   30000.000000  3.000000e+04   30000.00000   \n",
       "mean    38871.760400    5663.580500  5.921163e+03    5225.68150   \n",
       "std     59554.107537   16563.280354  2.304087e+04   17606.96147   \n",
       "min   -339603.000000       0.000000  0.000000e+00       0.00000   \n",
       "25%      1256.000000    1000.000000  8.330000e+02     390.00000   \n",
       "50%     17071.000000    2100.000000  2.009000e+03    1800.00000   \n",
       "75%     49198.250000    5006.000000  5.000000e+03    4505.00000   \n",
       "max    961664.000000  873552.000000  1.684259e+06  896040.00000   \n",
       "\n",
       "            PAY_AMT4       PAY_AMT5       PAY_AMT6  default payment next month  \n",
       "count   30000.000000   30000.000000   30000.000000                30000.000000  \n",
       "mean     4826.076867    4799.387633    5215.502567                    0.221200  \n",
       "std     15666.159744   15278.305679   17777.465775                    0.415062  \n",
       "min         0.000000       0.000000       0.000000                    0.000000  \n",
       "25%       296.000000     252.500000     117.750000                    0.000000  \n",
       "50%      1500.000000    1500.000000    1500.000000                    0.000000  \n",
       "75%      4013.250000    4031.500000    4000.000000                    0.000000  \n",
       "max    621000.000000  426529.000000  528666.000000                    1.000000  \n",
       "\n",
       "[8 rows x 25 columns]"
      ]
     },
     "execution_count": 3,
     "metadata": {},
     "output_type": "execute_result"
    }
   ],
   "source": [
    "credit.describe()"
   ]
  },
  {
   "cell_type": "code",
   "execution_count": 4,
   "metadata": {},
   "outputs": [
    {
     "name": "stdout",
     "output_type": "stream",
     "text": [
      "<class 'pandas.core.frame.DataFrame'>\n",
      "RangeIndex: 30000 entries, 0 to 29999\n",
      "Data columns (total 25 columns):\n",
      "ID                            30000 non-null int64\n",
      "LIMIT_BAL                     30000 non-null int64\n",
      "SEX                           30000 non-null int64\n",
      "EDUCATION                     30000 non-null int64\n",
      "MARRIAGE                      30000 non-null int64\n",
      "AGE                           30000 non-null int64\n",
      "PAY_0                         30000 non-null int64\n",
      "PAY_2                         30000 non-null int64\n",
      "PAY_3                         30000 non-null int64\n",
      "PAY_4                         30000 non-null int64\n",
      "PAY_5                         30000 non-null int64\n",
      "PAY_6                         30000 non-null int64\n",
      "BILL_AMT1                     30000 non-null int64\n",
      "BILL_AMT2                     30000 non-null int64\n",
      "BILL_AMT3                     30000 non-null int64\n",
      "BILL_AMT4                     30000 non-null int64\n",
      "BILL_AMT5                     30000 non-null int64\n",
      "BILL_AMT6                     30000 non-null int64\n",
      "PAY_AMT1                      30000 non-null int64\n",
      "PAY_AMT2                      30000 non-null int64\n",
      "PAY_AMT3                      30000 non-null int64\n",
      "PAY_AMT4                      30000 non-null int64\n",
      "PAY_AMT5                      30000 non-null int64\n",
      "PAY_AMT6                      30000 non-null int64\n",
      "default payment next month    30000 non-null int64\n",
      "dtypes: int64(25)\n",
      "memory usage: 5.7 MB\n"
     ]
    }
   ],
   "source": [
    "credit.info()"
   ]
  },
  {
   "cell_type": "markdown",
   "metadata": {},
   "source": [
    "# Pre-processing Data"
   ]
  },
  {
   "cell_type": "code",
   "execution_count": 5,
   "metadata": {},
   "outputs": [],
   "source": [
    "credit = credit.drop(['ID'], axis = 1)"
   ]
  },
  {
   "cell_type": "code",
   "execution_count": 6,
   "metadata": {},
   "outputs": [
    {
     "data": {
      "text/html": [
       "<div>\n",
       "<style scoped>\n",
       "    .dataframe tbody tr th:only-of-type {\n",
       "        vertical-align: middle;\n",
       "    }\n",
       "\n",
       "    .dataframe tbody tr th {\n",
       "        vertical-align: top;\n",
       "    }\n",
       "\n",
       "    .dataframe thead th {\n",
       "        text-align: right;\n",
       "    }\n",
       "</style>\n",
       "<table border=\"1\" class=\"dataframe\">\n",
       "  <thead>\n",
       "    <tr style=\"text-align: right;\">\n",
       "      <th></th>\n",
       "      <th>limit_bal</th>\n",
       "      <th>sex</th>\n",
       "      <th>education</th>\n",
       "      <th>marriage</th>\n",
       "      <th>age</th>\n",
       "      <th>pay_1</th>\n",
       "      <th>pay_2</th>\n",
       "      <th>pay_3</th>\n",
       "      <th>pay_4</th>\n",
       "      <th>pay_5</th>\n",
       "      <th>...</th>\n",
       "      <th>bill_amt4</th>\n",
       "      <th>bill_amt5</th>\n",
       "      <th>bill_amt6</th>\n",
       "      <th>pay_amt1</th>\n",
       "      <th>pay_amt2</th>\n",
       "      <th>pay_amt3</th>\n",
       "      <th>pay_amt4</th>\n",
       "      <th>pay_amt5</th>\n",
       "      <th>pay_amt6</th>\n",
       "      <th>default</th>\n",
       "    </tr>\n",
       "  </thead>\n",
       "  <tbody>\n",
       "    <tr>\n",
       "      <th>0</th>\n",
       "      <td>20000</td>\n",
       "      <td>2</td>\n",
       "      <td>2</td>\n",
       "      <td>1</td>\n",
       "      <td>24</td>\n",
       "      <td>2</td>\n",
       "      <td>2</td>\n",
       "      <td>-1</td>\n",
       "      <td>-1</td>\n",
       "      <td>-2</td>\n",
       "      <td>...</td>\n",
       "      <td>0</td>\n",
       "      <td>0</td>\n",
       "      <td>0</td>\n",
       "      <td>0</td>\n",
       "      <td>689</td>\n",
       "      <td>0</td>\n",
       "      <td>0</td>\n",
       "      <td>0</td>\n",
       "      <td>0</td>\n",
       "      <td>1</td>\n",
       "    </tr>\n",
       "    <tr>\n",
       "      <th>1</th>\n",
       "      <td>120000</td>\n",
       "      <td>2</td>\n",
       "      <td>2</td>\n",
       "      <td>2</td>\n",
       "      <td>26</td>\n",
       "      <td>-1</td>\n",
       "      <td>2</td>\n",
       "      <td>0</td>\n",
       "      <td>0</td>\n",
       "      <td>0</td>\n",
       "      <td>...</td>\n",
       "      <td>3272</td>\n",
       "      <td>3455</td>\n",
       "      <td>3261</td>\n",
       "      <td>0</td>\n",
       "      <td>1000</td>\n",
       "      <td>1000</td>\n",
       "      <td>1000</td>\n",
       "      <td>0</td>\n",
       "      <td>2000</td>\n",
       "      <td>1</td>\n",
       "    </tr>\n",
       "    <tr>\n",
       "      <th>2</th>\n",
       "      <td>90000</td>\n",
       "      <td>2</td>\n",
       "      <td>2</td>\n",
       "      <td>2</td>\n",
       "      <td>34</td>\n",
       "      <td>0</td>\n",
       "      <td>0</td>\n",
       "      <td>0</td>\n",
       "      <td>0</td>\n",
       "      <td>0</td>\n",
       "      <td>...</td>\n",
       "      <td>14331</td>\n",
       "      <td>14948</td>\n",
       "      <td>15549</td>\n",
       "      <td>1518</td>\n",
       "      <td>1500</td>\n",
       "      <td>1000</td>\n",
       "      <td>1000</td>\n",
       "      <td>1000</td>\n",
       "      <td>5000</td>\n",
       "      <td>0</td>\n",
       "    </tr>\n",
       "    <tr>\n",
       "      <th>3</th>\n",
       "      <td>50000</td>\n",
       "      <td>2</td>\n",
       "      <td>2</td>\n",
       "      <td>1</td>\n",
       "      <td>37</td>\n",
       "      <td>0</td>\n",
       "      <td>0</td>\n",
       "      <td>0</td>\n",
       "      <td>0</td>\n",
       "      <td>0</td>\n",
       "      <td>...</td>\n",
       "      <td>28314</td>\n",
       "      <td>28959</td>\n",
       "      <td>29547</td>\n",
       "      <td>2000</td>\n",
       "      <td>2019</td>\n",
       "      <td>1200</td>\n",
       "      <td>1100</td>\n",
       "      <td>1069</td>\n",
       "      <td>1000</td>\n",
       "      <td>0</td>\n",
       "    </tr>\n",
       "    <tr>\n",
       "      <th>4</th>\n",
       "      <td>50000</td>\n",
       "      <td>1</td>\n",
       "      <td>2</td>\n",
       "      <td>1</td>\n",
       "      <td>57</td>\n",
       "      <td>-1</td>\n",
       "      <td>0</td>\n",
       "      <td>-1</td>\n",
       "      <td>0</td>\n",
       "      <td>0</td>\n",
       "      <td>...</td>\n",
       "      <td>20940</td>\n",
       "      <td>19146</td>\n",
       "      <td>19131</td>\n",
       "      <td>2000</td>\n",
       "      <td>36681</td>\n",
       "      <td>10000</td>\n",
       "      <td>9000</td>\n",
       "      <td>689</td>\n",
       "      <td>679</td>\n",
       "      <td>0</td>\n",
       "    </tr>\n",
       "  </tbody>\n",
       "</table>\n",
       "<p>5 rows × 24 columns</p>\n",
       "</div>"
      ],
      "text/plain": [
       "   limit_bal  sex  education  marriage  age  pay_1  pay_2  pay_3  pay_4  \\\n",
       "0      20000    2          2         1   24      2      2     -1     -1   \n",
       "1     120000    2          2         2   26     -1      2      0      0   \n",
       "2      90000    2          2         2   34      0      0      0      0   \n",
       "3      50000    2          2         1   37      0      0      0      0   \n",
       "4      50000    1          2         1   57     -1      0     -1      0   \n",
       "\n",
       "   pay_5   ...     bill_amt4  bill_amt5  bill_amt6  pay_amt1  pay_amt2  \\\n",
       "0     -2   ...             0          0          0         0       689   \n",
       "1      0   ...          3272       3455       3261         0      1000   \n",
       "2      0   ...         14331      14948      15549      1518      1500   \n",
       "3      0   ...         28314      28959      29547      2000      2019   \n",
       "4      0   ...         20940      19146      19131      2000     36681   \n",
       "\n",
       "   pay_amt3  pay_amt4  pay_amt5  pay_amt6  default  \n",
       "0         0         0         0         0        1  \n",
       "1      1000      1000         0      2000        1  \n",
       "2      1000      1000      1000      5000        0  \n",
       "3      1200      1100      1069      1000        0  \n",
       "4     10000      9000       689       679        0  \n",
       "\n",
       "[5 rows x 24 columns]"
      ]
     },
     "execution_count": 6,
     "metadata": {},
     "output_type": "execute_result"
    }
   ],
   "source": [
    "credit.columns = map(str.lower, credit.columns)\n",
    "credit = credit.rename(columns = {'pay_0':'pay_1','default payment next month':'default'})\n",
    "credit.head()"
   ]
  },
  {
   "cell_type": "code",
   "execution_count": 7,
   "metadata": {},
   "outputs": [],
   "source": [
    "### renaming factor classes\n",
    "\n",
    "### sex column\n",
    "credit['sex'] = np.where(credit['sex'] == 1, 'male', 'female')\n",
    "\n",
    "### education column\n",
    "education_conditions = [\n",
    "    (credit['education']==1),\n",
    "    (credit['education']==2),\n",
    "    (credit['education']==3)]\n",
    "education_labels = ['graduate','university','high_school']\n",
    "credit['education'] = np.select(education_conditions, education_labels, default = 'other')\n",
    "\n",
    "### marriage column\n",
    "marriage_conditions = [\n",
    "    (credit['marriage']==1),\n",
    "    (credit['marriage']==2),\n",
    "    (credit['marriage']==3)]\n",
    "marriage_labels = ['married','single','divorced']\n",
    "credit['marriage'] = np.select(marriage_conditions, marriage_labels, default = 'other')"
   ]
  },
  {
   "cell_type": "code",
   "execution_count": 8,
   "metadata": {},
   "outputs": [
    {
     "data": {
      "text/html": [
       "<div>\n",
       "<style scoped>\n",
       "    .dataframe tbody tr th:only-of-type {\n",
       "        vertical-align: middle;\n",
       "    }\n",
       "\n",
       "    .dataframe tbody tr th {\n",
       "        vertical-align: top;\n",
       "    }\n",
       "\n",
       "    .dataframe thead th {\n",
       "        text-align: right;\n",
       "    }\n",
       "</style>\n",
       "<table border=\"1\" class=\"dataframe\">\n",
       "  <thead>\n",
       "    <tr style=\"text-align: right;\">\n",
       "      <th></th>\n",
       "      <th>limit_bal</th>\n",
       "      <th>sex</th>\n",
       "      <th>education</th>\n",
       "      <th>marriage</th>\n",
       "      <th>age</th>\n",
       "      <th>pay_1</th>\n",
       "      <th>pay_2</th>\n",
       "      <th>pay_3</th>\n",
       "      <th>pay_4</th>\n",
       "      <th>pay_5</th>\n",
       "      <th>...</th>\n",
       "      <th>pay_amt3</th>\n",
       "      <th>pay_amt4</th>\n",
       "      <th>pay_amt5</th>\n",
       "      <th>pay_amt6</th>\n",
       "      <th>default</th>\n",
       "      <th>pay</th>\n",
       "      <th>bill_amt</th>\n",
       "      <th>pay_amt</th>\n",
       "      <th>balance</th>\n",
       "      <th>limit_balance_ratio</th>\n",
       "    </tr>\n",
       "  </thead>\n",
       "  <tbody>\n",
       "    <tr>\n",
       "      <th>0</th>\n",
       "      <td>20000</td>\n",
       "      <td>female</td>\n",
       "      <td>university</td>\n",
       "      <td>married</td>\n",
       "      <td>24</td>\n",
       "      <td>2</td>\n",
       "      <td>2</td>\n",
       "      <td>-1</td>\n",
       "      <td>-1</td>\n",
       "      <td>-2</td>\n",
       "      <td>...</td>\n",
       "      <td>0</td>\n",
       "      <td>0</td>\n",
       "      <td>0</td>\n",
       "      <td>0</td>\n",
       "      <td>1</td>\n",
       "      <td>-2</td>\n",
       "      <td>7704</td>\n",
       "      <td>689</td>\n",
       "      <td>7015</td>\n",
       "      <td>0.350750</td>\n",
       "    </tr>\n",
       "    <tr>\n",
       "      <th>1</th>\n",
       "      <td>120000</td>\n",
       "      <td>female</td>\n",
       "      <td>university</td>\n",
       "      <td>single</td>\n",
       "      <td>26</td>\n",
       "      <td>-1</td>\n",
       "      <td>2</td>\n",
       "      <td>0</td>\n",
       "      <td>0</td>\n",
       "      <td>0</td>\n",
       "      <td>...</td>\n",
       "      <td>1000</td>\n",
       "      <td>1000</td>\n",
       "      <td>0</td>\n",
       "      <td>2000</td>\n",
       "      <td>1</td>\n",
       "      <td>3</td>\n",
       "      <td>17077</td>\n",
       "      <td>5000</td>\n",
       "      <td>12077</td>\n",
       "      <td>0.100642</td>\n",
       "    </tr>\n",
       "    <tr>\n",
       "      <th>2</th>\n",
       "      <td>90000</td>\n",
       "      <td>female</td>\n",
       "      <td>university</td>\n",
       "      <td>single</td>\n",
       "      <td>34</td>\n",
       "      <td>0</td>\n",
       "      <td>0</td>\n",
       "      <td>0</td>\n",
       "      <td>0</td>\n",
       "      <td>0</td>\n",
       "      <td>...</td>\n",
       "      <td>1000</td>\n",
       "      <td>1000</td>\n",
       "      <td>1000</td>\n",
       "      <td>5000</td>\n",
       "      <td>0</td>\n",
       "      <td>0</td>\n",
       "      <td>101653</td>\n",
       "      <td>11018</td>\n",
       "      <td>90635</td>\n",
       "      <td>1.007056</td>\n",
       "    </tr>\n",
       "    <tr>\n",
       "      <th>3</th>\n",
       "      <td>50000</td>\n",
       "      <td>female</td>\n",
       "      <td>university</td>\n",
       "      <td>married</td>\n",
       "      <td>37</td>\n",
       "      <td>0</td>\n",
       "      <td>0</td>\n",
       "      <td>0</td>\n",
       "      <td>0</td>\n",
       "      <td>0</td>\n",
       "      <td>...</td>\n",
       "      <td>1200</td>\n",
       "      <td>1100</td>\n",
       "      <td>1069</td>\n",
       "      <td>1000</td>\n",
       "      <td>0</td>\n",
       "      <td>0</td>\n",
       "      <td>231334</td>\n",
       "      <td>8388</td>\n",
       "      <td>222946</td>\n",
       "      <td>4.458920</td>\n",
       "    </tr>\n",
       "    <tr>\n",
       "      <th>4</th>\n",
       "      <td>50000</td>\n",
       "      <td>male</td>\n",
       "      <td>university</td>\n",
       "      <td>married</td>\n",
       "      <td>57</td>\n",
       "      <td>-1</td>\n",
       "      <td>0</td>\n",
       "      <td>-1</td>\n",
       "      <td>0</td>\n",
       "      <td>0</td>\n",
       "      <td>...</td>\n",
       "      <td>10000</td>\n",
       "      <td>9000</td>\n",
       "      <td>689</td>\n",
       "      <td>679</td>\n",
       "      <td>0</td>\n",
       "      <td>-2</td>\n",
       "      <td>109339</td>\n",
       "      <td>59049</td>\n",
       "      <td>50290</td>\n",
       "      <td>1.005800</td>\n",
       "    </tr>\n",
       "  </tbody>\n",
       "</table>\n",
       "<p>5 rows × 29 columns</p>\n",
       "</div>"
      ],
      "text/plain": [
       "   limit_bal     sex   education marriage  age  pay_1  pay_2  pay_3  pay_4  \\\n",
       "0      20000  female  university  married   24      2      2     -1     -1   \n",
       "1     120000  female  university   single   26     -1      2      0      0   \n",
       "2      90000  female  university   single   34      0      0      0      0   \n",
       "3      50000  female  university  married   37      0      0      0      0   \n",
       "4      50000    male  university  married   57     -1      0     -1      0   \n",
       "\n",
       "   pay_5         ...           pay_amt3  pay_amt4  pay_amt5  pay_amt6  \\\n",
       "0     -2         ...                  0         0         0         0   \n",
       "1      0         ...               1000      1000         0      2000   \n",
       "2      0         ...               1000      1000      1000      5000   \n",
       "3      0         ...               1200      1100      1069      1000   \n",
       "4      0         ...              10000      9000       689       679   \n",
       "\n",
       "   default  pay  bill_amt  pay_amt  balance  limit_balance_ratio  \n",
       "0        1   -2      7704      689     7015             0.350750  \n",
       "1        1    3     17077     5000    12077             0.100642  \n",
       "2        0    0    101653    11018    90635             1.007056  \n",
       "3        0    0    231334     8388   222946             4.458920  \n",
       "4        0   -2    109339    59049    50290             1.005800  \n",
       "\n",
       "[5 rows x 29 columns]"
      ]
     },
     "execution_count": 8,
     "metadata": {},
     "output_type": "execute_result"
    }
   ],
   "source": [
    "### creating total pay, bill_amt & pay_amt columns\n",
    "credit['pay'] = credit.loc[:,'pay_1':'pay_6'].sum(axis = 1)\n",
    "credit['bill_amt'] = credit.loc[:,'bill_amt1':'bill_amt6'].sum(axis = 1)\n",
    "credit['pay_amt'] = credit.loc[:,'pay_amt1':'pay_amt6'].sum(axis = 1)\n",
    "\n",
    "### creating some additional columns I believe might be useful later on\n",
    "credit['balance'] = credit.bill_amt - credit.pay_amt\n",
    "credit['limit_balance_ratio'] = credit.balance / credit.limit_bal\n",
    "\n",
    "credit.head()"
   ]
  },
  {
   "cell_type": "code",
   "execution_count": 9,
   "metadata": {},
   "outputs": [
    {
     "name": "stdout",
     "output_type": "stream",
     "text": [
      "<class 'pandas.core.frame.DataFrame'>\n",
      "RangeIndex: 30000 entries, 0 to 29999\n",
      "Data columns (total 29 columns):\n",
      "limit_bal              30000 non-null int64\n",
      "sex                    30000 non-null category\n",
      "education              30000 non-null category\n",
      "marriage               30000 non-null category\n",
      "age                    30000 non-null int64\n",
      "pay_1                  30000 non-null int64\n",
      "pay_2                  30000 non-null int64\n",
      "pay_3                  30000 non-null int64\n",
      "pay_4                  30000 non-null int64\n",
      "pay_5                  30000 non-null int64\n",
      "pay_6                  30000 non-null int64\n",
      "bill_amt1              30000 non-null int64\n",
      "bill_amt2              30000 non-null int64\n",
      "bill_amt3              30000 non-null int64\n",
      "bill_amt4              30000 non-null int64\n",
      "bill_amt5              30000 non-null int64\n",
      "bill_amt6              30000 non-null int64\n",
      "pay_amt1               30000 non-null int64\n",
      "pay_amt2               30000 non-null int64\n",
      "pay_amt3               30000 non-null int64\n",
      "pay_amt4               30000 non-null int64\n",
      "pay_amt5               30000 non-null int64\n",
      "pay_amt6               30000 non-null int64\n",
      "default                30000 non-null int64\n",
      "pay                    30000 non-null int64\n",
      "bill_amt               30000 non-null int64\n",
      "pay_amt                30000 non-null int64\n",
      "balance                30000 non-null int64\n",
      "limit_balance_ratio    30000 non-null float64\n",
      "dtypes: category(3), float64(1), int64(25)\n",
      "memory usage: 6.0 MB\n"
     ]
    }
   ],
   "source": [
    "### converting categorical data from integer data type to category data type\n",
    "credit['sex'] = credit['sex'].astype('category')\n",
    "credit['education'] = credit['education'].astype('category')\n",
    "credit['marriage'] = credit['marriage'].astype('category')\n",
    "credit.info()"
   ]
  },
  {
   "cell_type": "code",
   "execution_count": 45,
   "metadata": {},
   "outputs": [
    {
     "data": {
      "text/html": [
       "<div>\n",
       "<style scoped>\n",
       "    .dataframe tbody tr th:only-of-type {\n",
       "        vertical-align: middle;\n",
       "    }\n",
       "\n",
       "    .dataframe tbody tr th {\n",
       "        vertical-align: top;\n",
       "    }\n",
       "\n",
       "    .dataframe thead th {\n",
       "        text-align: right;\n",
       "    }\n",
       "</style>\n",
       "<table border=\"1\" class=\"dataframe\">\n",
       "  <thead>\n",
       "    <tr style=\"text-align: right;\">\n",
       "      <th></th>\n",
       "      <th>limit_bal</th>\n",
       "      <th>sex</th>\n",
       "      <th>education</th>\n",
       "      <th>marriage</th>\n",
       "      <th>age</th>\n",
       "      <th>pay_1</th>\n",
       "      <th>pay_2</th>\n",
       "      <th>pay_3</th>\n",
       "      <th>pay_4</th>\n",
       "      <th>pay_5</th>\n",
       "      <th>...</th>\n",
       "      <th>pay_amt3</th>\n",
       "      <th>pay_amt4</th>\n",
       "      <th>pay_amt5</th>\n",
       "      <th>pay_amt6</th>\n",
       "      <th>default</th>\n",
       "      <th>pay</th>\n",
       "      <th>bill_amt</th>\n",
       "      <th>pay_amt</th>\n",
       "      <th>balance</th>\n",
       "      <th>limit_balance_ratio</th>\n",
       "    </tr>\n",
       "  </thead>\n",
       "  <tbody>\n",
       "    <tr>\n",
       "      <th>0</th>\n",
       "      <td>20000</td>\n",
       "      <td>female</td>\n",
       "      <td>university</td>\n",
       "      <td>married</td>\n",
       "      <td>24</td>\n",
       "      <td>2</td>\n",
       "      <td>2</td>\n",
       "      <td>-1</td>\n",
       "      <td>-1</td>\n",
       "      <td>-2</td>\n",
       "      <td>...</td>\n",
       "      <td>0</td>\n",
       "      <td>0</td>\n",
       "      <td>0</td>\n",
       "      <td>0</td>\n",
       "      <td>1</td>\n",
       "      <td>-2</td>\n",
       "      <td>7704</td>\n",
       "      <td>689</td>\n",
       "      <td>7015</td>\n",
       "      <td>0.350750</td>\n",
       "    </tr>\n",
       "    <tr>\n",
       "      <th>1</th>\n",
       "      <td>120000</td>\n",
       "      <td>female</td>\n",
       "      <td>university</td>\n",
       "      <td>single</td>\n",
       "      <td>26</td>\n",
       "      <td>-1</td>\n",
       "      <td>2</td>\n",
       "      <td>0</td>\n",
       "      <td>0</td>\n",
       "      <td>0</td>\n",
       "      <td>...</td>\n",
       "      <td>1000</td>\n",
       "      <td>1000</td>\n",
       "      <td>0</td>\n",
       "      <td>2000</td>\n",
       "      <td>1</td>\n",
       "      <td>3</td>\n",
       "      <td>17077</td>\n",
       "      <td>5000</td>\n",
       "      <td>12077</td>\n",
       "      <td>0.100642</td>\n",
       "    </tr>\n",
       "    <tr>\n",
       "      <th>2</th>\n",
       "      <td>90000</td>\n",
       "      <td>female</td>\n",
       "      <td>university</td>\n",
       "      <td>single</td>\n",
       "      <td>34</td>\n",
       "      <td>0</td>\n",
       "      <td>0</td>\n",
       "      <td>0</td>\n",
       "      <td>0</td>\n",
       "      <td>0</td>\n",
       "      <td>...</td>\n",
       "      <td>1000</td>\n",
       "      <td>1000</td>\n",
       "      <td>1000</td>\n",
       "      <td>5000</td>\n",
       "      <td>0</td>\n",
       "      <td>0</td>\n",
       "      <td>101653</td>\n",
       "      <td>11018</td>\n",
       "      <td>90635</td>\n",
       "      <td>1.007056</td>\n",
       "    </tr>\n",
       "    <tr>\n",
       "      <th>3</th>\n",
       "      <td>50000</td>\n",
       "      <td>female</td>\n",
       "      <td>university</td>\n",
       "      <td>married</td>\n",
       "      <td>37</td>\n",
       "      <td>0</td>\n",
       "      <td>0</td>\n",
       "      <td>0</td>\n",
       "      <td>0</td>\n",
       "      <td>0</td>\n",
       "      <td>...</td>\n",
       "      <td>1200</td>\n",
       "      <td>1100</td>\n",
       "      <td>1069</td>\n",
       "      <td>1000</td>\n",
       "      <td>0</td>\n",
       "      <td>0</td>\n",
       "      <td>231334</td>\n",
       "      <td>8388</td>\n",
       "      <td>222946</td>\n",
       "      <td>4.458920</td>\n",
       "    </tr>\n",
       "    <tr>\n",
       "      <th>4</th>\n",
       "      <td>50000</td>\n",
       "      <td>male</td>\n",
       "      <td>university</td>\n",
       "      <td>married</td>\n",
       "      <td>57</td>\n",
       "      <td>-1</td>\n",
       "      <td>0</td>\n",
       "      <td>-1</td>\n",
       "      <td>0</td>\n",
       "      <td>0</td>\n",
       "      <td>...</td>\n",
       "      <td>10000</td>\n",
       "      <td>9000</td>\n",
       "      <td>689</td>\n",
       "      <td>679</td>\n",
       "      <td>0</td>\n",
       "      <td>-2</td>\n",
       "      <td>109339</td>\n",
       "      <td>59049</td>\n",
       "      <td>50290</td>\n",
       "      <td>1.005800</td>\n",
       "    </tr>\n",
       "  </tbody>\n",
       "</table>\n",
       "<p>5 rows × 29 columns</p>\n",
       "</div>"
      ],
      "text/plain": [
       "   limit_bal     sex   education marriage  age  pay_1  pay_2  pay_3  pay_4  \\\n",
       "0      20000  female  university  married   24      2      2     -1     -1   \n",
       "1     120000  female  university   single   26     -1      2      0      0   \n",
       "2      90000  female  university   single   34      0      0      0      0   \n",
       "3      50000  female  university  married   37      0      0      0      0   \n",
       "4      50000    male  university  married   57     -1      0     -1      0   \n",
       "\n",
       "   pay_5         ...           pay_amt3  pay_amt4  pay_amt5  pay_amt6  \\\n",
       "0     -2         ...                  0         0         0         0   \n",
       "1      0         ...               1000      1000         0      2000   \n",
       "2      0         ...               1000      1000      1000      5000   \n",
       "3      0         ...               1200      1100      1069      1000   \n",
       "4      0         ...              10000      9000       689       679   \n",
       "\n",
       "   default  pay  bill_amt  pay_amt  balance  limit_balance_ratio  \n",
       "0        1   -2      7704      689     7015             0.350750  \n",
       "1        1    3     17077     5000    12077             0.100642  \n",
       "2        0    0    101653    11018    90635             1.007056  \n",
       "3        0    0    231334     8388   222946             4.458920  \n",
       "4        0   -2    109339    59049    50290             1.005800  \n",
       "\n",
       "[5 rows x 29 columns]"
      ]
     },
     "execution_count": 45,
     "metadata": {},
     "output_type": "execute_result"
    }
   ],
   "source": [
    "credit.to_csv('credit.csv', index=False)\n",
    "credit = pd.read_csv('credit.csv')\n",
    "credit.head()"
   ]
  },
  {
   "cell_type": "markdown",
   "metadata": {},
   "source": [
    "# Exploratory Data Analysis"
   ]
  },
  {
   "cell_type": "code",
   "execution_count": 11,
   "metadata": {},
   "outputs": [],
   "source": [
    "import matplotlib.pyplot as plt\n",
    "import seaborn as sns"
   ]
  },
  {
   "cell_type": "markdown",
   "metadata": {},
   "source": [
    "### Initial exploration"
   ]
  },
  {
   "cell_type": "code",
   "execution_count": 12,
   "metadata": {},
   "outputs": [
    {
     "name": "stdout",
     "output_type": "stream",
     "text": [
      "Index(['limit_bal', 'sex', 'education', 'marriage', 'age', 'pay_1', 'pay_2',\n",
      "       'pay_3', 'pay_4', 'pay_5', 'pay_6', 'bill_amt1', 'bill_amt2',\n",
      "       'bill_amt3', 'bill_amt4', 'bill_amt5', 'bill_amt6', 'pay_amt1',\n",
      "       'pay_amt2', 'pay_amt3', 'pay_amt4', 'pay_amt5', 'pay_amt6', 'default',\n",
      "       'pay', 'bill_amt', 'pay_amt', 'balance', 'limit_balance_ratio'],\n",
      "      dtype='object')\n"
     ]
    }
   ],
   "source": [
    "header = credit.dtypes.index\n",
    "print(header)"
   ]
  },
  {
   "cell_type": "code",
   "execution_count": 13,
   "metadata": {},
   "outputs": [
    {
     "data": {
      "image/png": "[encoded data removed]",
      "text/plain": [
       "<Figure size 432x288 with 1 Axes>"
      ]
     },
     "metadata": {
      "needs_background": "light"
     },
     "output_type": "display_data"
    }
   ],
   "source": [
    "plt.hist(credit['limit_bal'], bins = 4)\n",
    "plt.show()"
   ]
  },
  {
   "cell_type": "code",
   "execution_count": 14,
   "metadata": {},
   "outputs": [
    {
     "data": {
      "image/png": "[encoded data removed]",
      "text/plain": [
       "<Figure size 432x288 with 1 Axes>"
      ]
     },
     "metadata": {
      "needs_background": "light"
     },
     "output_type": "display_data"
    }
   ],
   "source": [
    "plt.plot(credit['limit_bal'])\n",
    "plt.show()"
   ]
  },
  {
   "cell_type": "code",
   "execution_count": 15,
   "metadata": {},
   "outputs": [
    {
     "data": {
      "image/png": "[encoded data removed]",
      "text/plain": [
       "<Figure size 432x288 with 1 Axes>"
      ]
     },
     "metadata": {
      "needs_background": "light"
     },
     "output_type": "display_data"
    }
   ],
   "source": [
    "plt.scatter(credit['pay_1'],credit['pay_2'])\n",
    "plt.show()"
   ]
  },
  {
   "cell_type": "code",
   "execution_count": 16,
   "metadata": {},
   "outputs": [
    {
     "name": "stdout",
     "output_type": "stream",
     "text": [
      "Index(['limit_bal', 'sex', 'education', 'marriage', 'age', 'pay_1', 'pay_2',\n",
      "       'pay_3', 'pay_4', 'pay_5', 'pay_6', 'bill_amt1', 'bill_amt2',\n",
      "       'bill_amt3', 'bill_amt4', 'bill_amt5', 'bill_amt6', 'pay_amt1',\n",
      "       'pay_amt2', 'pay_amt3', 'pay_amt4', 'pay_amt5', 'pay_amt6', 'default',\n",
      "       'pay', 'bill_amt', 'pay_amt', 'balance', 'limit_balance_ratio'],\n",
      "      dtype='object')\n"
     ]
    }
   ],
   "source": [
    "header = credit.dtypes.index\n",
    "print(header)"
   ]
  },
  {
   "cell_type": "code",
   "execution_count": 17,
   "metadata": {},
   "outputs": [
    {
     "data": {
      "image/png": "[encoded data removed]",
      "text/plain": [
       "<Figure size 432x288 with 1 Axes>"
      ]
     },
     "metadata": {
      "needs_background": "light"
     },
     "output_type": "display_data"
    }
   ],
   "source": [
    "plt.boxplot(credit['bill_amt1'],0,'gD')\n",
    "plt.show()"
   ]
  },
  {
   "cell_type": "markdown",
   "metadata": {},
   "source": [
    "#### Correlation between features and label"
   ]
  },
  {
   "cell_type": "code",
   "execution_count": 18,
   "metadata": {},
   "outputs": [
    {
     "name": "stdout",
     "output_type": "stream",
     "text": [
      "                     limit_bal       age     pay_1     pay_2     pay_3  \\\n",
      "limit_bal             1.000000  0.144713 -0.271214 -0.296382 -0.286123   \n",
      "age                   0.144713  1.000000 -0.039447 -0.050148 -0.053048   \n",
      "pay_1                -0.271214 -0.039447  1.000000  0.672164  0.574245   \n",
      "pay_2                -0.296382 -0.050148  0.672164  1.000000  0.766552   \n",
      "pay_3                -0.286123 -0.053048  0.574245  0.766552  1.000000   \n",
      "pay_4                -0.267460 -0.049722  0.538841  0.662067  0.777359   \n",
      "pay_5                -0.249411 -0.053826  0.509426  0.622780  0.686775   \n",
      "pay_6                -0.235195 -0.048773  0.474553  0.575501  0.632684   \n",
      "bill_amt1             0.285430  0.056239  0.187068  0.234887  0.208473   \n",
      "bill_amt2             0.278314  0.054283  0.189859  0.235257  0.237295   \n",
      "bill_amt3             0.283236  0.053710  0.179785  0.224146  0.227494   \n",
      "bill_amt4             0.293988  0.051353  0.179125  0.222237  0.227202   \n",
      "bill_amt5             0.295562  0.049345  0.180635  0.221348  0.225145   \n",
      "bill_amt6             0.290389  0.047613  0.176980  0.219403  0.222327   \n",
      "pay_amt1              0.195236  0.026147 -0.079269 -0.080701  0.001295   \n",
      "pay_amt2              0.178408  0.021785 -0.070101 -0.058990 -0.066793   \n",
      "pay_amt3              0.210167  0.029247 -0.070561 -0.055901 -0.053311   \n",
      "pay_amt4              0.203242  0.021379 -0.064005 -0.046858 -0.046067   \n",
      "pay_amt5              0.217202  0.022850 -0.058190 -0.037093 -0.035863   \n",
      "pay_amt6              0.219595  0.019478 -0.058673 -0.036500 -0.035861   \n",
      "default              -0.153520  0.013890  0.324794  0.263551  0.235253   \n",
      "pay                  -0.316961 -0.058217  0.741345  0.850428  0.878080   \n",
      "bill_amt              0.302044  0.054981  0.191803  0.238182  0.235960   \n",
      "pay_amt               0.352655  0.040776 -0.116810 -0.092553 -0.071732   \n",
      "balance               0.256616  0.050634  0.220029  0.264440  0.258630   \n",
      "limit_balance_ratio  -0.367485 -0.035415  0.428476  0.510098  0.495820   \n",
      "\n",
      "                        pay_4     pay_5     pay_6  bill_amt1  bill_amt2  \\\n",
      "limit_bal           -0.267460 -0.249411 -0.235195   0.285430   0.278314   \n",
      "age                 -0.049722 -0.053826 -0.048773   0.056239   0.054283   \n",
      "pay_1                0.538841  0.509426  0.474553   0.187068   0.189859   \n",
      "pay_2                0.662067  0.622780  0.575501   0.234887   0.235257   \n",
      "pay_3                0.777359  0.686775  0.632684   0.208473   0.237295   \n",
      "pay_4                1.000000  0.819835  0.716449   0.202812   0.225816   \n",
      "pay_5                0.819835  1.000000  0.816900   0.206684   0.226913   \n",
      "pay_6                0.716449  0.816900  1.000000   0.207373   0.226924   \n",
      "bill_amt1            0.202812  0.206684  0.207373   1.000000   0.951484   \n",
      "bill_amt2            0.225816  0.226913  0.226924   0.951484   1.000000   \n",
      "bill_amt3            0.244983  0.243335  0.241181   0.892279   0.928326   \n",
      "bill_amt4            0.245917  0.271915  0.266356   0.860272   0.892482   \n",
      "bill_amt5            0.242902  0.269783  0.290894   0.829779   0.859778   \n",
      "bill_amt6            0.239154  0.262509  0.285091   0.802650   0.831594   \n",
      "pay_amt1            -0.009362 -0.006089 -0.001496   0.140277   0.280365   \n",
      "pay_amt2            -0.001944 -0.003191 -0.005223   0.099355   0.100851   \n",
      "pay_amt3            -0.069235  0.009062  0.005834   0.156887   0.150718   \n",
      "pay_amt4            -0.043461 -0.058299  0.019018   0.158303   0.147398   \n",
      "pay_amt5            -0.033590 -0.033337 -0.046434   0.167026   0.157957   \n",
      "pay_amt6            -0.026565 -0.023027 -0.025299   0.179341   0.174256   \n",
      "default              0.216614  0.204149  0.186866  -0.019644  -0.014193   \n",
      "pay                  0.890987  0.877502  0.830272   0.246179   0.264910   \n",
      "bill_amt             0.244561  0.257594  0.263318   0.940100   0.961178   \n",
      "pay_amt             -0.050720 -0.030362 -0.014856   0.256381   0.286736   \n",
      "balance              0.264100  0.274311  0.277697   0.939610   0.956555   \n",
      "limit_balance_ratio  0.493129  0.491643  0.482258   0.516290   0.537447   \n",
      "\n",
      "                            ...           pay_amt3  pay_amt4  pay_amt5  \\\n",
      "limit_bal                   ...           0.210167  0.203242  0.217202   \n",
      "age                         ...           0.029247  0.021379  0.022850   \n",
      "pay_1                       ...          -0.070561 -0.064005 -0.058190   \n",
      "pay_2                       ...          -0.055901 -0.046858 -0.037093   \n",
      "pay_3                       ...          -0.053311 -0.046067 -0.035863   \n",
      "pay_4                       ...          -0.069235 -0.043461 -0.033590   \n",
      "pay_5                       ...           0.009062 -0.058299 -0.033337   \n",
      "pay_6                       ...           0.005834  0.019018 -0.046434   \n",
      "bill_amt1                   ...           0.156887  0.158303  0.167026   \n",
      "bill_amt2                   ...           0.150718  0.147398  0.157957   \n",
      "bill_amt3                   ...           0.130011  0.143405  0.179712   \n",
      "bill_amt4                   ...           0.300023  0.130191  0.160433   \n",
      "bill_amt5                   ...           0.252305  0.293118  0.141574   \n",
      "bill_amt6                   ...           0.233770  0.250237  0.307729   \n",
      "pay_amt1                    ...           0.252191  0.199558  0.148459   \n",
      "pay_amt2                    ...           0.244770  0.180107  0.180908   \n",
      "pay_amt3                    ...           1.000000  0.216325  0.159214   \n",
      "pay_amt4                    ...           0.216325  1.000000  0.151830   \n",
      "pay_amt5                    ...           0.159214  0.151830  1.000000   \n",
      "pay_amt6                    ...           0.162740  0.157834  0.154896   \n",
      "default                     ...          -0.056250 -0.056827 -0.055124   \n",
      "pay                         ...          -0.046494 -0.047203 -0.048051   \n",
      "bill_amt                    ...           0.210395  0.192831  0.193009   \n",
      "pay_amt                     ...           0.594111  0.526993  0.490584   \n",
      "balance                     ...           0.120386  0.113271  0.119555   \n",
      "limit_balance_ratio         ...          -0.033401 -0.031158 -0.030683   \n",
      "\n",
      "                     pay_amt6   default       pay  bill_amt   pay_amt  \\\n",
      "limit_bal            0.219595 -0.153520 -0.316961  0.302044  0.352655   \n",
      "age                  0.019478  0.013890 -0.058217  0.054981  0.040776   \n",
      "pay_1               -0.058673  0.324794  0.741345  0.191803 -0.116810   \n",
      "pay_2               -0.036500  0.263551  0.850428  0.238182 -0.092553   \n",
      "pay_3               -0.035861  0.235253  0.878080  0.235960 -0.071732   \n",
      "pay_4               -0.026565  0.216614  0.890987  0.244561 -0.050720   \n",
      "pay_5               -0.023027  0.204149  0.877502  0.257594 -0.030362   \n",
      "pay_6               -0.025299  0.186866  0.830272  0.263318 -0.014856   \n",
      "bill_amt1            0.179341 -0.019644  0.246179  0.940100  0.256381   \n",
      "bill_amt2            0.174256 -0.014193  0.264910  0.961178  0.286736   \n",
      "bill_amt3            0.182326 -0.014076  0.268483  0.961958  0.359576   \n",
      "bill_amt4            0.177637 -0.010156  0.278504  0.964501  0.354659   \n",
      "bill_amt5            0.164184 -0.006760  0.281974  0.951676  0.359819   \n",
      "bill_amt6            0.115494 -0.005372  0.277035  0.928720  0.363015   \n",
      "pay_amt1             0.185735 -0.072929 -0.034568  0.230060  0.596438   \n",
      "pay_amt2             0.157634 -0.058579 -0.040936  0.187395  0.665297   \n",
      "pay_amt3             0.162740 -0.056250 -0.046494  0.210395  0.594111   \n",
      "pay_amt4             0.157834 -0.056827 -0.047203  0.192831  0.526993   \n",
      "pay_amt5             0.154896 -0.055124 -0.048051  0.193009  0.490584   \n",
      "pay_amt6             1.000000 -0.053183 -0.040523  0.175308  0.529207   \n",
      "default             -0.053183  1.000000  0.281955 -0.012691 -0.102354   \n",
      "pay                 -0.040523  0.281955  1.000000  0.282324 -0.074447   \n",
      "bill_amt             0.175308 -0.012691  0.282324  1.000000  0.343906   \n",
      "pay_amt              0.529207 -0.102354 -0.074447  0.343906  1.000000   \n",
      "balance              0.094586  0.003879  0.307542  0.987555  0.191943   \n",
      "limit_balance_ratio -0.053560  0.125141  0.572519  0.549729 -0.056035   \n",
      "\n",
      "                      balance  limit_balance_ratio  \n",
      "limit_bal            0.256616            -0.367485  \n",
      "age                  0.050634            -0.035415  \n",
      "pay_1                0.220029             0.428476  \n",
      "pay_2                0.264440             0.510098  \n",
      "pay_3                0.258630             0.495820  \n",
      "pay_4                0.264100             0.493129  \n",
      "pay_5                0.274311             0.491643  \n",
      "pay_6                0.277697             0.482258  \n",
      "bill_amt1            0.939610             0.516290  \n",
      "bill_amt2            0.956555             0.537447  \n",
      "bill_amt3            0.945170             0.533038  \n",
      "bill_amt4            0.948651             0.530476  \n",
      "bill_amt5            0.934383             0.516546  \n",
      "bill_amt6            0.909855             0.501908  \n",
      "pay_amt1             0.140549            -0.009291  \n",
      "pay_amt2             0.084425            -0.032873  \n",
      "pay_amt3             0.120386            -0.033401  \n",
      "pay_amt4             0.113271            -0.031158  \n",
      "pay_amt5             0.119555            -0.030683  \n",
      "pay_amt6             0.094586            -0.053560  \n",
      "default              0.003879             0.125141  \n",
      "pay                  0.307542             0.572519  \n",
      "bill_amt             0.987555             0.549729  \n",
      "pay_amt              0.191943            -0.056035  \n",
      "balance              1.000000             0.583939  \n",
      "limit_balance_ratio  0.583939             1.000000  \n",
      "\n",
      "[26 rows x 26 columns]\n"
     ]
    }
   ],
   "source": [
    "corrMat = credit.corr()\n",
    "print(corrMat)"
   ]
  },
  {
   "cell_type": "markdown",
   "metadata": {},
   "source": [
    "The features highest correlated to the default label include: pay, pay_1 and pay_2. Those three features all had a correlation value higher than 0.25 Other features correlating to the probability of default include: pay_3...pay_6, limit_balance_ratio, pay_amt and lim_bal."
   ]
  },
  {
   "cell_type": "code",
   "execution_count": 19,
   "metadata": {
    "scrolled": true
   },
   "outputs": [
    {
     "name": "stdout",
     "output_type": "stream",
     "text": [
      "                        limit_bal            age         pay_1          pay_2  \\\n",
      "limit_bal            1.683446e+10  173076.722569 -39545.930009  -46037.648360   \n",
      "age                  1.730767e+05      84.969755     -0.408639      -0.553408   \n",
      "pay_1               -3.954593e+04      -0.408639      1.262930       0.904330   \n",
      "pay_2               -4.603765e+04      -0.553408      0.904330       1.433254   \n",
      "pay_3               -4.443225e+04      -0.585263      0.772384       1.098371   \n",
      "pay_4               -4.057181e+04      -0.535851      0.707972       0.926680   \n",
      "pay_5               -3.667056e+04      -0.562245      0.648743       0.844886   \n",
      "pay_6               -3.509308e+04      -0.517022      0.613292       0.792320   \n",
      "bill_amt1            2.727020e+09   38172.933546  15480.304170   20706.614217   \n",
      "bill_amt2            2.570130e+09   35613.657962  15185.916919   20045.829482   \n",
      "bill_amt3            2.548533e+09   34334.251320  14011.556537   18609.510991   \n",
      "bill_amt4            2.453926e+09   30453.108180  12950.248389   17116.298983   \n",
      "bill_amt5            2.331481e+09   27654.067800  12341.668685   16110.952468   \n",
      "bill_amt6            2.243837e+09   26137.648547  11844.759724   15642.875812   \n",
      "pay_amt1             4.195711e+08    3992.041735  -1475.495089   -1600.240756   \n",
      "pay_amt2             5.333504e+08    4626.861549  -1815.138407   -1627.192336   \n",
      "pay_amt3             4.801180e+08    4746.824393  -1396.168258   -1178.331282   \n",
      "pay_amt4             4.131202e+08    3087.324192  -1126.847945    -878.843879   \n",
      "pay_amt5             4.305657e+08    3218.052172   -999.107730    -678.468530   \n",
      "pay_amt6             5.065153e+08    3191.903901  -1172.193614    -776.835035   \n",
      "default             -8.267552e+03       0.053143      0.151499       0.130960   \n",
      "pay                 -2.423513e+05      -3.162428      4.909650       5.999841   \n",
      "bill_amt             1.487493e+10  192365.667355  81814.454424  108232.081954   \n",
      "pay_amt              2.783241e+09   22863.007942  -7984.951043   -6739.911818   \n",
      "balance              1.209169e+10  169502.659412  89799.405467  114971.993772   \n",
      "limit_balance_ratio -9.757162e+04      -0.668044      0.985372       1.249681   \n",
      "\n",
      "                             pay_3          pay_4          pay_5  \\\n",
      "limit_bal            -44432.253315  -40571.811859  -36670.562325   \n",
      "age                      -0.585263      -0.535851      -0.562245   \n",
      "pay_1                     0.772384       0.707972       0.648743   \n",
      "pay_2                     1.098371       0.926680       0.844886   \n",
      "pay_3                     1.432492       1.087761       0.931455   \n",
      "pay_4                     1.087761       1.366885       1.086161   \n",
      "pay_5                     0.931455       1.086161       1.284114   \n",
      "pay_6                     0.870815       0.963263       1.064545   \n",
      "bill_amt1             18373.210469   17460.198259   17246.377531   \n",
      "bill_amt2             20214.071495   18790.627741   18301.285286   \n",
      "bill_amt3             18882.491544   19862.999426   19122.663330   \n",
      "bill_amt4             17494.100555   18496.423186   19822.925512   \n",
      "bill_amt5             16382.947539   17265.551898   18586.590324   \n",
      "bill_amt6             15847.089648   16651.586314   17715.690075   \n",
      "pay_amt1                 25.668468    -181.295613    -114.281714   \n",
      "pay_amt2              -1841.952825     -52.358166     -83.324487   \n",
      "pay_amt3              -1123.428782   -1425.205189     180.812142   \n",
      "pay_amt4               -863.762183    -796.035739   -1034.961970   \n",
      "pay_amt5               -655.796002    -599.991629    -577.161017   \n",
      "pay_amt6               -763.026041    -552.137338    -463.892613   \n",
      "default                   0.116867       0.105115       0.096020   \n",
      "pay                       6.193278       6.138722       5.859904   \n",
      "bill_amt             107193.911250  108527.386824  110795.532058   \n",
      "pay_amt               -5222.297365   -3607.023674   -2092.809659   \n",
      "balance              112416.208616  112134.410499  112888.341717   \n",
      "limit_balance_ratio       1.214377       1.179805       1.140080   \n",
      "\n",
      "                             pay_6     bill_amt1     bill_amt2  \\\n",
      "limit_bal            -35093.083441  2.727020e+09  2.570130e+09   \n",
      "age                      -0.517022  3.817293e+04  3.561366e+04   \n",
      "pay_1                     0.613292  1.548030e+04  1.518592e+04   \n",
      "pay_2                     0.792320  2.070661e+04  2.004583e+04   \n",
      "pay_3                     0.870815  1.837321e+04  2.021407e+04   \n",
      "pay_4                     0.963263  1.746020e+04  1.879063e+04   \n",
      "pay_5                     1.064545  1.724638e+04  1.830129e+04   \n",
      "pay_6                     1.322472  1.756042e+04  1.857353e+04   \n",
      "bill_amt1             17560.424872  5.422240e+09  4.986670e+09   \n",
      "bill_amt2             18573.527165  4.986670e+09  5.065705e+09   \n",
      "bill_amt3             19234.422476  4.556511e+09  4.582086e+09   \n",
      "bill_amt4             19705.551629  4.075286e+09  4.086508e+09   \n",
      "bill_amt5             20338.120325  3.714795e+09  3.720401e+09   \n",
      "bill_amt6             19524.880348  3.519876e+09  3.524868e+09   \n",
      "pay_amt1                -28.500666  1.710894e+08  3.305146e+08   \n",
      "pay_amt2               -138.399452  1.685692e+08  1.653859e+08   \n",
      "pay_amt3                118.121022  2.034048e+08  1.888731e+08   \n",
      "pay_amt4                342.623730  1.826164e+08  1.643518e+08   \n",
      "pay_amt5               -815.832688  1.879091e+08  1.717652e+08   \n",
      "pay_amt6               -517.216277  2.347681e+08  2.204845e+08   \n",
      "default                   0.089194 -6.003941e+02 -4.192891e+02   \n",
      "pay                       5.626706  1.068271e+05  1.111113e+05   \n",
      "bill_amt             114936.926817  2.627538e+10  2.596624e+10   \n",
      "pay_amt               -1039.204331  1.148357e+09  1.241375e+09   \n",
      "balance              115976.131148  2.512702e+10  2.472486e+10   \n",
      "limit_balance_ratio       1.134898  7.779775e+04  7.827796e+04   \n",
      "\n",
      "                            ...               pay_amt3      pay_amt4  \\\n",
      "limit_bal                   ...           4.801180e+08  4.131202e+08   \n",
      "age                         ...           4.746824e+03  3.087324e+03   \n",
      "pay_1                       ...          -1.396168e+03 -1.126848e+03   \n",
      "pay_2                       ...          -1.178331e+03 -8.788439e+02   \n",
      "pay_3                       ...          -1.123429e+03 -8.637622e+02   \n",
      "pay_4                       ...          -1.425205e+03 -7.960357e+02   \n",
      "pay_5                       ...           1.808121e+02 -1.034962e+03   \n",
      "pay_6                       ...           1.181210e+02  3.426237e+02   \n",
      "bill_amt1                   ...           2.034048e+08  1.826164e+08   \n",
      "bill_amt2                   ...           1.888731e+08  1.643518e+08   \n",
      "bill_amt3                   ...           1.587478e+08  1.558003e+08   \n",
      "bill_amt4                   ...           3.398374e+08  1.312133e+08   \n",
      "bill_amt5                   ...           2.700805e+08  2.791830e+08   \n",
      "bill_amt6                   ...           2.451233e+08  2.334670e+08   \n",
      "pay_amt1                    ...           7.354626e+07  5.178189e+07   \n",
      "pay_amt2                    ...           9.929841e+07  6.501168e+07   \n",
      "pay_amt3                    ...           3.100051e+08  5.966970e+07   \n",
      "pay_amt4                    ...           5.966970e+07  2.454286e+08   \n",
      "pay_amt5                    ...           4.282921e+07  3.634098e+07   \n",
      "pay_amt6                    ...           5.093879e+07  4.395747e+07   \n",
      "default                     ...          -4.110763e+02 -3.695159e+02   \n",
      "pay                         ...          -4.824200e+03 -4.357828e+03   \n",
      "bill_amt                    ...           1.406067e+09  1.146632e+09   \n",
      "pay_amt                     ...           6.362875e+08  5.021903e+08   \n",
      "balance                     ...           7.697793e+08  6.444415e+08   \n",
      "limit_balance_ratio         ...          -1.203460e+03 -9.988776e+02   \n",
      "\n",
      "                         pay_amt5      pay_amt6      default            pay  \\\n",
      "limit_bal            4.305657e+08  5.065153e+08 -8267.551759 -242351.289308   \n",
      "age                  3.218052e+03  3.191904e+03     0.053143      -3.162428   \n",
      "pay_1               -9.991077e+02 -1.172194e+03     0.151499       4.909650   \n",
      "pay_2               -6.784685e+02 -7.768350e+02     0.130960       5.999841   \n",
      "pay_3               -6.557960e+02 -7.630260e+02     0.116867       6.193278   \n",
      "pay_4               -5.999916e+02 -5.521373e+02     0.105115       6.138722   \n",
      "pay_5               -5.771610e+02 -4.638926e+02     0.096020       5.859904   \n",
      "pay_6               -8.158327e+02 -5.172163e+02     0.089194       5.626706   \n",
      "bill_amt1            1.879091e+08  2.347681e+08  -600.394108  106827.129518   \n",
      "bill_amt2            1.717652e+08  2.204845e+08  -419.289137  111111.258089   \n",
      "bill_amt3            1.904126e+08  2.247817e+08  -405.153680  109723.644304   \n",
      "bill_amt4            1.576892e+08  2.031590e+08  -271.199885  105585.548255   \n",
      "bill_amt5            1.315051e+08  1.774537e+08  -170.597447  101025.831239   \n",
      "bill_amt6            2.799982e+08  1.222761e+08  -132.796294   97226.881922   \n",
      "pay_amt1             3.756893e+07  5.469033e+07  -501.374552   -3374.145370   \n",
      "pay_amt2             6.368414e+07  6.456816e+07  -560.210740   -5558.365673   \n",
      "pay_amt3             4.282921e+07  5.093879e+07  -411.076284   -4824.200347   \n",
      "pay_amt4             3.634098e+07  4.395747e+07  -369.515887   -4357.827987   \n",
      "pay_amt5             2.334266e+08  4.207110e+07  -349.562530   -4326.357596   \n",
      "pay_amt6             4.207110e+07  3.160383e+08  -392.426415   -4245.300917   \n",
      "default             -3.495625e+02 -3.924264e+02     0.172276       0.689656   \n",
      "pay                 -4.326358e+03 -4.245301e+03     0.689656      34.728102   \n",
      "bill_amt             1.119279e+09  1.182923e+09 -1999.430550  631500.293328   \n",
      "pay_amt              4.559210e+08  5.722642e+08 -2584.166408  -26686.197890   \n",
      "balance              6.633584e+08  6.106590e+08   584.735858  658186.491218   \n",
      "limit_balance_ratio -9.593122e+02 -1.948460e+03     0.106291       6.904213   \n",
      "\n",
      "                         bill_amt       pay_amt       balance  \\\n",
      "limit_bal            1.487493e+10  2.783241e+09  1.209169e+10   \n",
      "age                  1.923657e+05  2.286301e+04  1.695027e+05   \n",
      "pay_1                8.181445e+04 -7.984951e+03  8.979941e+04   \n",
      "pay_2                1.082321e+05 -6.739912e+03  1.149720e+05   \n",
      "pay_3                1.071939e+05 -5.222297e+03  1.124162e+05   \n",
      "pay_4                1.085274e+05 -3.607024e+03  1.121344e+05   \n",
      "pay_5                1.107955e+05 -2.092810e+03  1.128883e+05   \n",
      "pay_6                1.149369e+05 -1.039204e+03  1.159761e+05   \n",
      "bill_amt1            2.627538e+10  1.148357e+09  2.512702e+10   \n",
      "bill_amt2            2.596624e+10  1.241375e+09  2.472486e+10   \n",
      "bill_amt3            2.532120e+10  1.516822e+09  2.380438e+10   \n",
      "bill_amt4            2.355162e+10  1.387856e+09  2.216376e+10   \n",
      "bill_amt5            2.196129e+10  1.330666e+09  2.063062e+10   \n",
      "bill_amt6            2.099336e+10  1.315037e+09  1.967832e+10   \n",
      "pay_amt1             1.446347e+09  6.009145e+08  8.454326e+08   \n",
      "pay_amt2             1.638864e+09  9.324290e+08  7.064352e+08   \n",
      "pay_amt3             1.406067e+09  6.362875e+08  7.697793e+08   \n",
      "pay_amt4             1.146632e+09  5.021903e+08  6.444415e+08   \n",
      "pay_amt5             1.119279e+09  4.559210e+08  6.633584e+08   \n",
      "pay_amt6             1.182923e+09  5.722642e+08  6.106590e+08   \n",
      "default             -1.999431e+03 -2.584166e+03  5.847359e+02   \n",
      "pay                  6.315003e+05 -2.668620e+04  6.581865e+05   \n",
      "bill_amt             1.440691e+11  7.940112e+09  1.361290e+11   \n",
      "pay_amt              7.940112e+09  3.700006e+09  4.240106e+09   \n",
      "balance              1.361290e+11  4.240106e+09  1.318889e+11   \n",
      "limit_balance_ratio  4.269905e+05 -6.974999e+03  4.339655e+05   \n",
      "\n",
      "                     limit_balance_ratio  \n",
      "limit_bal                  -97571.620852  \n",
      "age                            -0.668044  \n",
      "pay_1                           0.985372  \n",
      "pay_2                           1.249681  \n",
      "pay_3                           1.214377  \n",
      "pay_4                           1.179805  \n",
      "pay_5                           1.140080  \n",
      "pay_6                           1.134898  \n",
      "bill_amt1                   77797.753915  \n",
      "bill_amt2                   78277.961234  \n",
      "bill_amt3                   75645.714816  \n",
      "bill_amt4                   69836.483616  \n",
      "bill_amt5                   64265.191503  \n",
      "bill_amt6                   61167.411779  \n",
      "pay_amt1                     -314.904266  \n",
      "pay_amt2                    -1549.984506  \n",
      "pay_amt3                    -1203.460355  \n",
      "pay_amt4                     -998.877573  \n",
      "pay_amt5                     -959.312220  \n",
      "pay_amt6                    -1948.459582  \n",
      "default                         0.106291  \n",
      "pay                             6.904213  \n",
      "bill_amt                   426990.516863  \n",
      "pay_amt                     -6974.998502  \n",
      "balance                    433965.515364  \n",
      "limit_balance_ratio             4.187626  \n",
      "\n",
      "[26 rows x 26 columns]\n"
     ]
    }
   ],
   "source": [
    "covMat = credit.cov()\n",
    "print(covMat)"
   ]
  },
  {
   "cell_type": "markdown",
   "metadata": {},
   "source": [
    "### Total defaults"
   ]
  },
  {
   "cell_type": "code",
   "execution_count": 20,
   "metadata": {},
   "outputs": [
    {
     "name": "stdout",
     "output_type": "stream",
     "text": [
      "default\n",
      "0    23364\n",
      "1     6636\n",
      "Name: default, dtype: int64\n",
      "\n",
      "\n",
      "Fraction of clients that defaulted: 0.22\n"
     ]
    }
   ],
   "source": [
    "print(credit.groupby('default')['default'].count())\n",
    "print('\\n\\nFraction of clients that defaulted: ' + str(round((6636/30000),2)))"
   ]
  },
  {
   "cell_type": "code",
   "execution_count": 21,
   "metadata": {},
   "outputs": [
    {
     "data": {
      "text/plain": [
       "<seaborn.axisgrid.FacetGrid at 0x1a1ab79630>"
      ]
     },
     "execution_count": 21,
     "metadata": {},
     "output_type": "execute_result"
    },
    {
     "data": {
      "image/png": "[encoded data removed]",
      "text/plain": [
       "<Figure size 432x288 with 1 Axes>"
      ]
     },
     "metadata": {
      "needs_background": "light"
     },
     "output_type": "display_data"
    }
   ],
   "source": [
    "sns.factorplot('default',data = credit, kind = 'count', aspect = 1.5).set_xlabels('Default Status')"
   ]
  },
  {
   "cell_type": "markdown",
   "metadata": {},
   "source": [
    "More than 3 out of 4 clients pay their loans. It is a small fraction of clients that are the problem. "
   ]
  },
  {
   "cell_type": "markdown",
   "metadata": {},
   "source": [
    "### `'sex'` statistics "
   ]
  },
  {
   "cell_type": "code",
   "execution_count": 22,
   "metadata": {},
   "outputs": [
    {
     "name": "stdout",
     "output_type": "stream",
     "text": [
      "sex     default\n",
      "female  0          14349\n",
      "        1           3763\n",
      "male    0           9015\n",
      "        1           2873\n",
      "Name: sex, dtype: int64\n",
      "\n",
      "Males in data:\t\t11888\n",
      "Females in data:\t18112\n",
      "\n",
      "Fraction of defaults pertaining to males:\t0.43\n",
      "Fraction of defaults pertaining to females:\t0.57\n",
      "\n",
      "Fraction of males that defaulted:\t0.24\n",
      "Fraction of females that defaulted:\t0.21\n"
     ]
    }
   ],
   "source": [
    "print(credit.groupby(['sex','default'])['sex'].count())\n",
    "\n",
    "print('\\nMales in data:\\t\\t' + str(9015+2873))\n",
    "print('Females in data:\\t' + str(14349+3763))\n",
    "\n",
    "print('\\nFraction of defaults pertaining to males:\\t' + str(round((2873/(2873+3763)),2)))\n",
    "print('Fraction of defaults pertaining to females:\\t' + str(round((3763/(2873+3763)),2)))\n",
    "\n",
    "print('\\nFraction of males that defaulted:\\t' + str(round((2873/(2873+9015)),2)))\n",
    "print('Fraction of females that defaulted:\\t' + str(round((3763/(14349+3763)),2)))"
   ]
  },
  {
   "cell_type": "code",
   "execution_count": 23,
   "metadata": {},
   "outputs": [
    {
     "data": {
      "text/plain": [
       "<seaborn.axisgrid.FacetGrid at 0x1a1ac51cc0>"
      ]
     },
     "execution_count": 23,
     "metadata": {},
     "output_type": "execute_result"
    },
    {
     "data": {
      "image/png": "[encoded data removed]",
      "text/plain": [
       "<Figure size 547.375x288 with 1 Axes>"
      ]
     },
     "metadata": {
      "needs_background": "light"
     },
     "output_type": "display_data"
    }
   ],
   "source": [
    "sns.factorplot('sex', data = credit, hue = 'default', kind = 'count', aspect = 1.75).set_xlabels('Sex')"
   ]
  },
  {
   "cell_type": "markdown",
   "metadata": {},
   "source": [
    "Data contains more females that males, therefore, they contribute to more defaults in the data set. However, males tend to default 3% more often than females. "
   ]
  },
  {
   "cell_type": "markdown",
   "metadata": {},
   "source": [
    "### `'education'` statistics"
   ]
  },
  {
   "cell_type": "code",
   "execution_count": 24,
   "metadata": {},
   "outputs": [
    {
     "name": "stdout",
     "output_type": "stream",
     "text": [
      "education    default\n",
      "graduate     0           8549\n",
      "             1           2036\n",
      "high_school  0           3680\n",
      "             1           1237\n",
      "other        0            435\n",
      "             1             33\n",
      "university   0          10700\n",
      "             1           3330\n",
      "Name: education, dtype: int64\n"
     ]
    },
    {
     "data": {
      "text/plain": [
       "<seaborn.axisgrid.FacetGrid at 0x1165c5240>"
      ]
     },
     "execution_count": 24,
     "metadata": {},
     "output_type": "execute_result"
    },
    {
     "data": {
      "image/png": "[encoded data removed]",
      "text/plain": [
       "<Figure size 547.375x288 with 1 Axes>"
      ]
     },
     "metadata": {
      "needs_background": "light"
     },
     "output_type": "display_data"
    }
   ],
   "source": [
    "print(credit.groupby(['education','default'])['education'].count())\n",
    "sns.factorplot('education',data=credit,hue='default',kind='count',aspect=1.75).set_xlabels('Education Level')"
   ]
  },
  {
   "cell_type": "code",
   "execution_count": 25,
   "metadata": {},
   "outputs": [
    {
     "name": "stdout",
     "output_type": "stream",
     "text": [
      "Fraction of people with graduate school education that defaulted:\t0.19\n",
      "\n",
      "Fraction of people with university education that defaulted:\t\t0.24\n",
      "\n",
      "Fraction of people with high school education that defaulted:\t\t0.25\n"
     ]
    }
   ],
   "source": [
    "print('Fraction of people with graduate school education that defaulted:\\t' + str(round((2036/(2036+8549)),2)))\n",
    "print('\\nFraction of people with university education that defaulted:\\t\\t' + str(round((3330/(3330+10700)),2)))\n",
    "print('\\nFraction of people with high school education that defaulted:\\t\\t' + str(round((1237/(3680+1237)),2)))"
   ]
  },
  {
   "cell_type": "code",
   "execution_count": 26,
   "metadata": {},
   "outputs": [
    {
     "name": "stderr",
     "output_type": "stream",
     "text": [
      "/Users/sergiorobledo/anaconda3/lib/python3.6/site-packages/scipy/stats/stats.py:1713: FutureWarning: Using a non-tuple sequence for multidimensional indexing is deprecated; use `arr[tuple(seq)]` instead of `arr[seq]`. In the future this will be interpreted as an array index, `arr[np.array(seq)]`, which will result either in an error or a different result.\n",
      "  return np.add.reduce(sorted[indexer] * weights, axis=axis) / sumval\n"
     ]
    },
    {
     "data": {
      "text/plain": [
       "<seaborn.axisgrid.FacetGrid at 0x1165e4978>"
      ]
     },
     "execution_count": 26,
     "metadata": {},
     "output_type": "execute_result"
    },
    {
     "data": {
      "image/png": "[encoded data removed]",
      "text/plain": [
       "<Figure size 288x288 with 1 Axes>"
      ]
     },
     "metadata": {
      "needs_background": "light"
     },
     "output_type": "display_data"
    }
   ],
   "source": [
    "sns.factorplot('education', 'default', data=credit, palette='winter')"
   ]
  },
  {
   "cell_type": "markdown",
   "metadata": {},
   "source": [
    "University and high school level educated people defaulted about the same percentage of the time, 24 to 25%. However, people with graduate school education defaulted at a much lower rate, only 19%. Clients under other types of education defaulted at a really low rate; however, there is a low amount of data for these groups of people relative to the other education levels."
   ]
  },
  {
   "cell_type": "markdown",
   "metadata": {},
   "source": [
    "### `'marriage'` statistics"
   ]
  },
  {
   "cell_type": "code",
   "execution_count": 27,
   "metadata": {},
   "outputs": [
    {
     "name": "stdout",
     "output_type": "stream",
     "text": [
      "marriage  default\n",
      "divorced  0            239\n",
      "          1             84\n",
      "married   0          10453\n",
      "          1           3206\n",
      "other     0             49\n",
      "          1              5\n",
      "single    0          12623\n",
      "          1           3341\n",
      "Name: marriage, dtype: int64\n"
     ]
    },
    {
     "data": {
      "text/plain": [
       "<seaborn.axisgrid.FacetGrid at 0x1a1e019080>"
      ]
     },
     "execution_count": 27,
     "metadata": {},
     "output_type": "execute_result"
    },
    {
     "data": {
      "image/png": "[encoded data removed]",
      "text/plain": [
       "<Figure size 547.375x288 with 1 Axes>"
      ]
     },
     "metadata": {
      "needs_background": "light"
     },
     "output_type": "display_data"
    }
   ],
   "source": [
    "print(credit.groupby(['marriage','default'])['marriage'].count())\n",
    "sns.factorplot('marriage', data=credit, hue='default', kind='count', aspect=1.75).set_xlabels('Marriage Status')"
   ]
  },
  {
   "cell_type": "code",
   "execution_count": 28,
   "metadata": {},
   "outputs": [
    {
     "name": "stdout",
     "output_type": "stream",
     "text": [
      "Fraction of married people that defaulted:\t0.23\n",
      "\n",
      "Fraction of single people that defaulted:\t0.21\n",
      "\n",
      "Fraction of divorced people that defaulted:\t0.26\n"
     ]
    }
   ],
   "source": [
    "print('Fraction of married people that defaulted:\\t' + str(round((3206/(3206+10453)),2)))\n",
    "print('\\nFraction of single people that defaulted:\\t' + str(round((3341/(3341+12623)),2)))\n",
    "print('\\nFraction of divorced people that defaulted:\\t' + str(round((84/(84+239)),2)))"
   ]
  },
  {
   "cell_type": "code",
   "execution_count": 29,
   "metadata": {},
   "outputs": [
    {
     "data": {
      "text/plain": [
       "<seaborn.axisgrid.FacetGrid at 0x1049d7e80>"
      ]
     },
     "execution_count": 29,
     "metadata": {},
     "output_type": "execute_result"
    },
    {
     "data": {
      "image/png": "[encoded data removed]",
      "text/plain": [
       "<Figure size 288x288 with 1 Axes>"
      ]
     },
     "metadata": {
      "needs_background": "light"
     },
     "output_type": "display_data"
    }
   ],
   "source": [
    "sns.factorplot('marriage', 'default', data=credit, palette='winter')"
   ]
  },
  {
   "cell_type": "markdown",
   "metadata": {},
   "source": [
    "Divorced people had the highest rate of defaulting, at 26%. Married people were second most likely to default, 23% of the time. Single people only defaulted 21% of the time. There was too little information about the default behavior of other marriage category clients to make any substantial conclusions about them. "
   ]
  },
  {
   "cell_type": "markdown",
   "metadata": {},
   "source": [
    "### `'age'` statistics"
   ]
  },
  {
   "cell_type": "code",
   "execution_count": 30,
   "metadata": {},
   "outputs": [
    {
     "data": {
      "text/plain": [
       "count    30000.000000\n",
       "mean        35.485500\n",
       "std          9.217904\n",
       "min         21.000000\n",
       "25%         28.000000\n",
       "50%         34.000000\n",
       "75%         41.000000\n",
       "max         79.000000\n",
       "Name: age, dtype: float64"
      ]
     },
     "execution_count": 30,
     "metadata": {},
     "output_type": "execute_result"
    }
   ],
   "source": [
    "credit.age.describe()"
   ]
  },
  {
   "cell_type": "markdown",
   "metadata": {},
   "source": [
    "Average age is 35. Three out of four people are under 41 years old. Oldest client age is 79, and youngest 21. "
   ]
  },
  {
   "cell_type": "code",
   "execution_count": 31,
   "metadata": {},
   "outputs": [
    {
     "name": "stderr",
     "output_type": "stream",
     "text": [
      "/Users/sergiorobledo/anaconda3/lib/python3.6/site-packages/matplotlib/axes/_axes.py:6462: UserWarning: The 'normed' kwarg is deprecated, and has been replaced by the 'density' kwarg.\n",
      "  warnings.warn(\"The 'normed' kwarg is deprecated, and has been \"\n"
     ]
    },
    {
     "data": {
      "text/plain": [
       "Text(0.5,1,\"Distribution of Clients' Ages\")"
      ]
     },
     "execution_count": 31,
     "metadata": {},
     "output_type": "execute_result"
    },
    {
     "data": {
      "image/png": "[encoded data removed]",
      "text/plain": [
       "<Figure size 432x288 with 1 Axes>"
      ]
     },
     "metadata": {
      "needs_background": "light"
     },
     "output_type": "display_data"
    }
   ],
   "source": [
    "sns.distplot(credit['age']).set_title(\"Distribution of Clients' Ages\")"
   ]
  },
  {
   "cell_type": "markdown",
   "metadata": {},
   "source": [
    "There is a positive skew in the age distribution; there are many more younger clients than there are older. This can be seen visually in the distribution above and in the statistics obtained from the describe() function."
   ]
  },
  {
   "cell_type": "code",
   "execution_count": 32,
   "metadata": {},
   "outputs": [
    {
     "data": {
      "text/plain": [
       "<seaborn.axisgrid.FacetGrid at 0x1a1a90d978>"
      ]
     },
     "execution_count": 32,
     "metadata": {},
     "output_type": "execute_result"
    },
    {
     "data": {
      "image/png": "[encoded data removed]",
      "text/plain": [
       "<Figure size 360x360 with 1 Axes>"
      ]
     },
     "metadata": {
      "needs_background": "light"
     },
     "output_type": "display_data"
    }
   ],
   "source": [
    "sns.lmplot('age', 'default', data=credit)"
   ]
  },
  {
   "cell_type": "code",
   "execution_count": 33,
   "metadata": {},
   "outputs": [
    {
     "data": {
      "text/plain": [
       "<seaborn.axisgrid.FacetGrid at 0x1a1d6961d0>"
      ]
     },
     "execution_count": 33,
     "metadata": {},
     "output_type": "execute_result"
    },
    {
     "data": {
      "image/png": "[encoded data removed]",
      "text/plain": [
       "<Figure size 430.5x360 with 1 Axes>"
      ]
     },
     "metadata": {
      "needs_background": "light"
     },
     "output_type": "display_data"
    }
   ],
   "source": [
    "sns.lmplot('age', 'default', hue='sex', data=credit, palette='winter')"
   ]
  },
  {
   "cell_type": "markdown",
   "metadata": {},
   "source": [
    "There is no real correlation between the age of a client and their probability to default. From the linear plots above, it can be concluded that there might be a very small increase in probability of default as age increases. However, this is a very weak relationship."
   ]
  },
  {
   "cell_type": "markdown",
   "metadata": {},
   "source": [
    "## `'sex'` & `'education'` statistics"
   ]
  },
  {
   "cell_type": "code",
   "execution_count": 34,
   "metadata": {},
   "outputs": [
    {
     "data": {
      "text/plain": [
       "<seaborn.axisgrid.FacetGrid at 0x1a1a9685f8>"
      ]
     },
     "execution_count": 34,
     "metadata": {},
     "output_type": "execute_result"
    },
    {
     "data": {
      "image/png": "[encoded data removed]",
      "text/plain": [
       "<Figure size 383x288 with 1 Axes>"
      ]
     },
     "metadata": {
      "needs_background": "light"
     },
     "output_type": "display_data"
    }
   ],
   "source": [
    "sns.factorplot('sex',data=credit, kind='count',hue='education')"
   ]
  },
  {
   "cell_type": "code",
   "execution_count": 35,
   "metadata": {},
   "outputs": [
    {
     "data": {
      "text/plain": [
       "university     0.452052\n",
       "graduate       0.366252\n",
       "high_school    0.167396\n",
       "other          0.014300\n",
       "Name: education, dtype: float64"
      ]
     },
     "execution_count": 35,
     "metadata": {},
     "output_type": "execute_result"
    }
   ],
   "source": [
    "### percentages of education making up the male clients\n",
    "male_education = credit.loc[credit['sex'] == 'male', ['sex','education']]\n",
    "(male_education['education'].value_counts())/len(male_education)"
   ]
  },
  {
   "cell_type": "code",
   "execution_count": 36,
   "metadata": {},
   "outputs": [
    {
     "data": {
      "text/plain": [
       "university     0.477915\n",
       "graduate       0.344026\n",
       "high_school    0.161606\n",
       "other          0.016453\n",
       "Name: education, dtype: float64"
      ]
     },
     "execution_count": 36,
     "metadata": {},
     "output_type": "execute_result"
    }
   ],
   "source": [
    "### percentages of education making up the female clients\n",
    "female_education = credit.loc[credit['sex'] == 'female', ['sex','education']]\n",
    "(female_education['education'].value_counts())/len(female_education)"
   ]
  },
  {
   "cell_type": "markdown",
   "metadata": {},
   "source": [
    "45% of males and 47% of females have a university education; this is not a significant difference. Another small difference is that males went to graduate school about 37% of the time, while only 34% of females did; this again, is a negligible observation given it could change with a different dataset or additional data. "
   ]
  },
  {
   "cell_type": "code",
   "execution_count": 37,
   "metadata": {},
   "outputs": [
    {
     "data": {
      "text/plain": [
       "<seaborn.axisgrid.FacetGrid at 0x1a1d696b38>"
      ]
     },
     "execution_count": 37,
     "metadata": {},
     "output_type": "execute_result"
    },
    {
     "data": {
      "image/png": "[encoded data removed]",
      "text/plain": [
       "<Figure size 358.5x288 with 1 Axes>"
      ]
     },
     "metadata": {
      "needs_background": "light"
     },
     "output_type": "display_data"
    }
   ],
   "source": [
    "sns.factorplot('education','default',hue='sex',data=credit)"
   ]
  },
  {
   "cell_type": "markdown",
   "metadata": {},
   "source": [
    "Females and males have a proportional probability of defaulting based on their education. Both sexes have the highest probability of default when they only have a high school education. The second most likely client to default, will have a university education, and graduate level clients have the third highest likelyhood of defaulting. Any client categorized under \"other\" education has a very low probability of defaulting. "
   ]
  },
  {
   "cell_type": "markdown",
   "metadata": {},
   "source": [
    "### `'pay'` statistics"
   ]
  },
  {
   "cell_type": "markdown",
   "metadata": {},
   "source": [
    "The pay column adds up all the previous pay_1...pay_6 columns into a collective pay column. Running the describe() function on the pay column, we can see that at least 75% of the clients had a collective pay score of 0. With -12 being the minimum and 36 being the maximum."
   ]
  },
  {
   "cell_type": "code",
   "execution_count": 38,
   "metadata": {},
   "outputs": [
    {
     "data": {
      "text/plain": [
       "count    30000.000000\n",
       "mean        -1.094633\n",
       "std          5.893055\n",
       "min        -12.000000\n",
       "25%         -5.000000\n",
       "50%          0.000000\n",
       "75%          0.000000\n",
       "max         36.000000\n",
       "Name: pay, dtype: float64"
      ]
     },
     "execution_count": 38,
     "metadata": {},
     "output_type": "execute_result"
    }
   ],
   "source": [
    "credit.pay.describe()"
   ]
  },
  {
   "cell_type": "code",
   "execution_count": 39,
   "metadata": {},
   "outputs": [
    {
     "data": {
      "text/plain": [
       "<seaborn.axisgrid.FacetGrid at 0x1a1cf287f0>"
      ]
     },
     "execution_count": 39,
     "metadata": {},
     "output_type": "execute_result"
    },
    {
     "data": {
      "image/png": "[encoded data removed]",
      "text/plain": [
       "<Figure size 360x360 with 1 Axes>"
      ]
     },
     "metadata": {
      "needs_background": "light"
     },
     "output_type": "display_data"
    }
   ],
   "source": [
    "sns.lmplot('pay', 'default', data=credit)"
   ]
  },
  {
   "cell_type": "markdown",
   "metadata": {},
   "source": [
    "The `'pay'` has a very clear direct relationship with the probability of a client defaulting. The higher the client's `'pay'` value, the higher the probability that they will default. This makes sense, because the higher the `'pay'` value of a client is, the further behind they usually are on their repayment."
   ]
  },
  {
   "cell_type": "code",
   "execution_count": 40,
   "metadata": {},
   "outputs": [
    {
     "data": {
      "text/plain": [
       "<matplotlib.axes._subplots.AxesSubplot at 0x1a1d397400>"
      ]
     },
     "execution_count": 40,
     "metadata": {},
     "output_type": "execute_result"
    },
    {
     "data": {
      "image/png": "[encoded data removed]",
      "text/plain": [
       "<Figure size 432x288 with 6 Axes>"
      ]
     },
     "metadata": {
      "needs_background": "light"
     },
     "output_type": "display_data"
    }
   ],
   "source": [
    "fig, axs = plt.subplots(2,3)\n",
    "sns.regplot(x = 'pay_1', y = 'pay', data = credit, ax = axs[0,0])\n",
    "sns.regplot(x = 'pay_2', y = 'pay', data = credit, ax = axs[0,1])\n",
    "sns.regplot(x = 'pay_3', y = 'pay', data = credit, ax = axs[0,2])\n",
    "sns.regplot(x = 'pay_4', y = 'pay', data = credit, ax = axs[1,0])\n",
    "sns.regplot(x = 'pay_5', y = 'pay', data = credit, ax = axs[1,1])\n",
    "sns.regplot(x = 'pay_6', y = 'pay', data = credit, ax = axs[1,2])"
   ]
  },
  {
   "cell_type": "markdown",
   "metadata": {},
   "source": [
    "As can be seen from the regression plots above, the `'pay'` feature is correlated to all the `'pay_n'` features. Therefore, since the '`pay'` feature is highly related to the probability of default, one could assume that the '`pay_n'` features would all be highly correlated to the probability of default as well. This is correct and can be seen from the regression plots below."
   ]
  },
  {
   "cell_type": "code",
   "execution_count": 41,
   "metadata": {},
   "outputs": [
    {
     "data": {
      "text/plain": [
       "<matplotlib.axes._subplots.AxesSubplot at 0x1a1b73ec50>"
      ]
     },
     "execution_count": 41,
     "metadata": {},
     "output_type": "execute_result"
    },
    {
     "data": {
      "image/png": "[encoded data removed]",
      "text/plain": [
       "<Figure size 432x288 with 6 Axes>"
      ]
     },
     "metadata": {
      "needs_background": "light"
     },
     "output_type": "display_data"
    }
   ],
   "source": [
    "fig, axs = plt.subplots(2,3)\n",
    "sns.regplot(x = 'pay_1', y = 'default', data = credit, ax = axs[0,0])\n",
    "sns.regplot(x = 'pay_2', y = 'default', data = credit, ax = axs[0,1])\n",
    "sns.regplot(x = 'pay_3', y = 'default', data = credit, ax = axs[0,2])\n",
    "sns.regplot(x = 'pay_4', y = 'default', data = credit, ax = axs[1,0])\n",
    "sns.regplot(x = 'pay_5', y = 'default', data = credit, ax = axs[1,1])\n",
    "sns.regplot(x = 'pay_6', y = 'default', data = credit, ax = axs[1,2])"
   ]
  },
  {
   "cell_type": "markdown",
   "metadata": {},
   "source": [
    "### Balance related statistics"
   ]
  },
  {
   "cell_type": "code",
   "execution_count": 42,
   "metadata": {},
   "outputs": [
    {
     "data": {
      "text/plain": [
       "<seaborn.axisgrid.FacetGrid at 0x1a1d4fecc0>"
      ]
     },
     "execution_count": 42,
     "metadata": {},
     "output_type": "execute_result"
    },
    {
     "data": {
      "image/png": "[encoded data removed]",
      "text/plain": [
       "<Figure size 360x360 with 1 Axes>"
      ]
     },
     "metadata": {
      "needs_background": "light"
     },
     "output_type": "display_data"
    }
   ],
   "source": [
    "sns.lmplot('limit_balance_ratio', 'default', data=credit)"
   ]
  },
  {
   "cell_type": "markdown",
   "metadata": {},
   "source": [
    "The higher the limit balance to balance ratio is, the higher the probability of default. The `'balance'` of a client is calculated by subtracting their total `'pay_amt'` from their total `'bill_amt'`. Therefore, it makes sense that the closer a client is to their balance limit, the harder it is going to be for them to pay off their loans."
   ]
  },
  {
   "cell_type": "code",
   "execution_count": 43,
   "metadata": {},
   "outputs": [
    {
     "data": {
      "text/plain": [
       "<seaborn.axisgrid.FacetGrid at 0x1a1b770860>"
      ]
     },
     "execution_count": 43,
     "metadata": {},
     "output_type": "execute_result"
    },
    {
     "data": {
      "image/png": "[encoded data removed]",
      "text/plain": [
       "<Figure size 360x360 with 1 Axes>"
      ]
     },
     "metadata": {
      "needs_background": "light"
     },
     "output_type": "display_data"
    }
   ],
   "source": [
    "sns.lmplot('limit_bal', 'default', data=credit)"
   ]
  },
  {
   "cell_type": "markdown",
   "metadata": {},
   "source": [
    "As the `'limit_bal'` given to a person increases, the probability of default decreases. This makes sense, because usually the people given the most credit have the best probability of paying back their loans."
   ]
  },
  {
   "cell_type": "markdown",
   "metadata": {},
   "source": [
    "# Build & Evaluate Models"
   ]
  },
  {
   "cell_type": "code",
   "execution_count": 169,
   "metadata": {},
   "outputs": [],
   "source": [
    "# scipy, math, sklearn\n",
    "from math import sqrt\n",
    "import scipy\n",
    "import sklearn\n",
    "\n",
    "# estimators\n",
    "from sklearn.tree import DecisionTreeClassifier\n",
    "from sklearn.naive_bayes import GaussianNB\n",
    "from sklearn.ensemble import RandomForestClassifier\n",
    "from sklearn.linear_model import LogisticRegression\n",
    "\n",
    "# performance metrics & pprint\n",
    "from sklearn.metrics import accuracy_score\n",
    "from sklearn.metrics import precision_score\n",
    "from sklearn.metrics import recall_score\n",
    "from sklearn.metrics import fbeta_score\n",
    "import pprint\n",
    "\n",
    "# cross validation\n",
    "from sklearn.model_selection import GridSearchCV\n",
    "from sklearn.model_selection import train_test_split\n",
    "\n",
    "# ignore warnings\n",
    "import warnings\n",
    "warnings.filterwarnings(\"ignore\")"
   ]
  },
  {
   "cell_type": "code",
   "execution_count": null,
   "metadata": {},
   "outputs": [],
   "source": [
    "# features\n",
    "features = credit[['pay','limit_bal','pay_amt','bill_amt','balance','limit_balance_ratio']]\n",
    "features.head()"
   ]
  },
  {
   "cell_type": "code",
   "execution_count": 72,
   "metadata": {},
   "outputs": [
    {
     "data": {
      "text/plain": [
       "0    1\n",
       "1    1\n",
       "2    0\n",
       "3    0\n",
       "4    0\n",
       "Name: default, dtype: int64"
      ]
     },
     "execution_count": 72,
     "metadata": {},
     "output_type": "execute_result"
    }
   ],
   "source": [
    "# label\n",
    "label = credit['default']\n",
    "label.head()"
   ]
  },
  {
   "cell_type": "code",
   "execution_count": 73,
   "metadata": {},
   "outputs": [
    {
     "data": {
      "text/plain": [
       "((22500, 6), (7500, 6))"
      ]
     },
     "execution_count": 73,
     "metadata": {},
     "output_type": "execute_result"
    }
   ],
   "source": [
    "# Train / Test Split\n",
    "X_train, X_test, y_train, y_test = train_test_split(features, label)\n",
    "X_train.shape, X_test.shape"
   ]
  },
  {
   "cell_type": "code",
   "execution_count": 120,
   "metadata": {},
   "outputs": [],
   "source": [
    "# models\n",
    "modelDT = DecisionTreeClassifier()\n",
    "modelNB = GaussianNB()\n",
    "modelRF = RandomForestClassifier()\n",
    "modelLR = LogisticRegression()"
   ]
  },
  {
   "cell_type": "code",
   "execution_count": 132,
   "metadata": {},
   "outputs": [
    {
     "name": "stdout",
     "output_type": "stream",
     "text": [
      "dict_keys(['explained_variance', 'r2', 'neg_median_absolute_error', 'neg_mean_absolute_error', 'neg_mean_squared_error', 'neg_mean_squared_log_error', 'accuracy', 'roc_auc', 'balanced_accuracy', 'average_precision', 'neg_log_loss', 'brier_score_loss', 'adjusted_rand_score', 'homogeneity_score', 'completeness_score', 'v_measure_score', 'mutual_info_score', 'adjusted_mutual_info_score', 'normalized_mutual_info_score', 'fowlkes_mallows_score', 'precision', 'precision_macro', 'precision_micro', 'precision_samples', 'precision_weighted', 'recall', 'recall_macro', 'recall_micro', 'recall_samples', 'recall_weighted', 'f1', 'f1_macro', 'f1_micro', 'f1_samples', 'f1_weighted'])\n"
     ]
    }
   ],
   "source": [
    "# performance metrics available\n",
    "sklearn.metrics.SCORERS.keys()"
   ]
  },
  {
   "cell_type": "code",
   "execution_count": 171,
   "metadata": {},
   "outputs": [],
   "source": [
    "# relevant performance metrics\n",
    "scoring = {'accuracy':'accuracy',\n",
    "          'precision':'precision',\n",
    "          'recall':'recall',\n",
    "          'f1':'f1'}"
   ]
  },
  {
   "cell_type": "code",
   "execution_count": 186,
   "metadata": {},
   "outputs": [
    {
     "name": "stdout",
     "output_type": "stream",
     "text": [
      "Decision Tree Classifier Fitted\n"
     ]
    }
   ],
   "source": [
    "# Decision Tree Classifier Fitting\n",
    "params_DT = {'max_depth':[5,25,125],'min_samples_split':[2,20,200]}\n",
    "DT_CV = GridSearchCV(estimator = modelDT, param_grid = params_DT, scoring = scoring, refit = False)\n",
    "DT_CV.fit(X_train, y_train)\n",
    "print('Decision Tree Classifier Fitted')"
   ]
  },
  {
   "cell_type": "code",
   "execution_count": 217,
   "metadata": {
    "scrolled": false
   },
   "outputs": [
    {
     "name": "stdout",
     "output_type": "stream",
     "text": [
      "{'max_depth': 5, 'min_samples_split': 2}\n",
      "Average Accuracy Score:\t 0.8044\n",
      "Average F1 Score:\t 0.40409918190994004\n",
      "Average Precision Score: 0.6181178147983049\n",
      "Average Recall Score:\t 0.3010809952893651 \n",
      "\n",
      "{'max_depth': 5, 'min_samples_split': 20}\n",
      "Average Accuracy Score:\t 0.8044\n",
      "Average F1 Score:\t 0.40409918190994004\n",
      "Average Precision Score: 0.6181178147983049\n",
      "Average Recall Score:\t 0.3010809952893651 \n",
      "\n",
      "{'max_depth': 5, 'min_samples_split': 200}\n",
      "Average Accuracy Score:\t 0.8041333333333334\n",
      "Average F1 Score:\t 0.40867706700944467\n",
      "Average Precision Score: 0.6135973329857023\n",
      "Average Recall Score:\t 0.30671394834713633 \n",
      "\n",
      "{'max_depth': 25, 'min_samples_split': 2}\n",
      "Average Accuracy Score:\t 0.7302666666666666\n",
      "Average F1 Score:\t 0.3703316305627687\n",
      "Average Precision Score: 0.3824704257757761\n",
      "Average Recall Score:\t 0.35900891064434276 \n",
      "\n",
      "{'max_depth': 25, 'min_samples_split': 20}\n",
      "Average Accuracy Score:\t 0.7544888888888889\n",
      "Average F1 Score:\t 0.37615556078200163\n",
      "Average Precision Score: 0.42909864280587456\n",
      "Average Recall Score:\t 0.33587529308914094 \n",
      "\n",
      "{'max_depth': 25, 'min_samples_split': 200}\n",
      "Average Accuracy Score:\t 0.7951555555555555\n",
      "Average F1 Score:\t 0.41146407946946606\n",
      "Average Precision Score: 0.5642694741008139\n",
      "Average Recall Score:\t 0.32501465707375393 \n",
      "\n",
      "{'max_depth': 125, 'min_samples_split': 2}\n",
      "Average Accuracy Score:\t 0.7171555555555555\n",
      "Average F1 Score:\t 0.36447033492627295\n",
      "Average Precision Score: 0.3619480782067486\n",
      "Average Recall Score:\t 0.3670545275019722 \n",
      "\n",
      "{'max_depth': 125, 'min_samples_split': 20}\n",
      "Average Accuracy Score:\t 0.7496444444444444\n",
      "Average F1 Score:\t 0.3728005546254515\n",
      "Average Precision Score: 0.41739765430654724\n",
      "Average Recall Score:\t 0.3372849090385676 \n",
      "\n",
      "{'max_depth': 125, 'min_samples_split': 200}\n",
      "Average Accuracy Score:\t 0.7943555555555556\n",
      "Average F1 Score:\t 0.40975168596437517\n",
      "Average Precision Score: 0.5607808006808187\n",
      "Average Recall Score:\t 0.3240089573486819 \n",
      "\n"
     ]
    }
   ],
   "source": [
    "# Decision Tree Classifier GridSearchCV Results\n",
    "results_DT = DT_CV.cv_results_\n",
    "for i in range(len(results_DT['params'])):\n",
    "    print(results_DT['params'][i])\n",
    "    print('Average Accuracy Score:\\t', results_DT['mean_test_accuracy'][i])\n",
    "    print('Average F1 Score:\\t', results_DT['mean_test_f1'][i])\n",
    "    print('Average Precision Score:', results_DT['mean_test_precision'][i])\n",
    "    print('Average Recall Score:\\t', results_DT['mean_test_recall'][i],'\\n')    "
   ]
  },
  {
   "cell_type": "code",
   "execution_count": 219,
   "metadata": {},
   "outputs": [
    {
     "name": "stdout",
     "output_type": "stream",
     "text": [
      "Random Forest Classifier Fitted\n"
     ]
    }
   ],
   "source": [
    "# Random Forest Classifier Fitting\n",
    "params_RF = {'n_estimators':[10,100],'max_depth':[5,25,125],'min_samples_split':[2,20,200]}\n",
    "RF_CV = GridSearchCV(estimator = modelRF, param_grid = params_RF, scoring = scoring, refit = False)\n",
    "RF_CV.fit(X_train, y_train)\n",
    "print('Random Forest Classifier Fitted')"
   ]
  },
  {
   "cell_type": "code",
   "execution_count": 220,
   "metadata": {
    "scrolled": false
   },
   "outputs": [
    {
     "name": "stdout",
     "output_type": "stream",
     "text": [
      "{'max_depth': 5, 'min_samples_split': 2, 'n_estimators': 10}\n",
      "Average Accuracy Score:\t 0.8045333333333333\n",
      "Average F1 Score:\t 0.3776025009616537\n",
      "Average Precision Score: 0.6343892868405394\n",
      "Average Recall Score:\t 0.2727196485413549 \n",
      "\n",
      "{'max_depth': 5, 'min_samples_split': 2, 'n_estimators': 100}\n",
      "Average Accuracy Score:\t 0.8044\n",
      "Average F1 Score:\t 0.3912821892159068\n",
      "Average Precision Score: 0.6276274228759267\n",
      "Average Recall Score:\t 0.2849963387324811 \n",
      "\n",
      "{'max_depth': 5, 'min_samples_split': 20, 'n_estimators': 10}\n",
      "Average Accuracy Score:\t 0.8058666666666666\n",
      "Average F1 Score:\t 0.3984078154172013\n",
      "Average Precision Score: 0.6355409569930783\n",
      "Average Recall Score:\t 0.2920408607640438 \n",
      "\n",
      "{'max_depth': 5, 'min_samples_split': 20, 'n_estimators': 100}\n",
      "Average Accuracy Score:\t 0.8049777777777778\n",
      "Average F1 Score:\t 0.400004647632594\n",
      "Average Precision Score: 0.6264325173863889\n",
      "Average Recall Score:\t 0.29525327133805507 \n",
      "\n",
      "{'max_depth': 5, 'min_samples_split': 200, 'n_estimators': 10}\n",
      "Average Accuracy Score:\t 0.8039555555555555\n",
      "Average F1 Score:\t 0.36990843875281565\n",
      "Average Precision Score: 0.6415012899106002\n",
      "Average Recall Score:\t 0.26227579855400973 \n",
      "\n",
      "{'max_depth': 5, 'min_samples_split': 200, 'n_estimators': 100}\n",
      "Average Accuracy Score:\t 0.8058222222222222\n",
      "Average F1 Score:\t 0.39951502992491517\n",
      "Average Precision Score: 0.6318702542997686\n",
      "Average Recall Score:\t 0.29304023120184725 \n",
      "\n",
      "{'max_depth': 25, 'min_samples_split': 2, 'n_estimators': 10}\n",
      "Average Accuracy Score:\t 0.7802666666666667\n",
      "Average F1 Score:\t 0.3668435255379376\n",
      "Average Precision Score: 0.5047376959198564\n",
      "Average Recall Score:\t 0.2882121455547928 \n",
      "\n",
      "{'max_depth': 25, 'min_samples_split': 2, 'n_estimators': 100}\n",
      "Average Accuracy Score:\t 0.7880444444444444\n",
      "Average F1 Score:\t 0.39703006052614365\n",
      "Average Precision Score: 0.534220394107057\n",
      "Average Recall Score:\t 0.3159662171192029 \n",
      "\n",
      "{'max_depth': 25, 'min_samples_split': 20, 'n_estimators': 10}\n",
      "Average Accuracy Score:\t 0.7957333333333333\n",
      "Average F1 Score:\t 0.409644314165437\n",
      "Average Precision Score: 0.5665173099672915\n",
      "Average Recall Score:\t 0.32099430694004316 \n",
      "\n",
      "{'max_depth': 25, 'min_samples_split': 20, 'n_estimators': 100}\n",
      "Average Accuracy Score:\t 0.7988\n",
      "Average F1 Score:\t 0.4043218074137861\n",
      "Average Precision Score: 0.5847432296259361\n",
      "Average Recall Score:\t 0.30912920649457243 \n",
      "\n",
      "{'max_depth': 25, 'min_samples_split': 200, 'n_estimators': 10}\n",
      "Average Accuracy Score:\t 0.8057333333333333\n",
      "Average F1 Score:\t 0.4111783872282723\n",
      "Average Precision Score: 0.6232819210963785\n",
      "Average Recall Score:\t 0.3071194063808934 \n",
      "\n",
      "{'max_depth': 25, 'min_samples_split': 200, 'n_estimators': 100}\n",
      "Average Accuracy Score:\t 0.8056\n",
      "Average F1 Score:\t 0.41194934497188784\n",
      "Average Precision Score: 0.6219467053137555\n",
      "Average Recall Score:\t 0.30872786685494 \n",
      "\n",
      "{'max_depth': 125, 'min_samples_split': 2, 'n_estimators': 10}\n",
      "Average Accuracy Score:\t 0.782\n",
      "Average F1 Score:\t 0.3690380992835576\n",
      "Average Precision Score: 0.5119447333456807\n",
      "Average Recall Score:\t 0.28861433480248977 \n",
      "\n",
      "{'max_depth': 125, 'min_samples_split': 2, 'n_estimators': 100}\n",
      "Average Accuracy Score:\t 0.7862666666666667\n",
      "Average F1 Score:\t 0.3900095159991969\n",
      "Average Precision Score: 0.5278132875739623\n",
      "Average Recall Score:\t 0.30932994022346094 \n",
      "\n",
      "{'max_depth': 125, 'min_samples_split': 20, 'n_estimators': 10}\n",
      "Average Accuracy Score:\t 0.7936\n",
      "Average F1 Score:\t 0.407536182912091\n",
      "Average Precision Score: 0.5571259020893373\n",
      "Average Recall Score:\t 0.32139796770606066 \n",
      "\n",
      "{'max_depth': 125, 'min_samples_split': 20, 'n_estimators': 100}\n",
      "Average Accuracy Score:\t 0.7986222222222222\n",
      "Average F1 Score:\t 0.404749629061825\n",
      "Average Precision Score: 0.5834032738327994\n",
      "Average Recall Score:\t 0.30993380715508206 \n",
      "\n",
      "{'max_depth': 125, 'min_samples_split': 200, 'n_estimators': 10}\n",
      "Average Accuracy Score:\t 0.8043111111111111\n",
      "Average F1 Score:\t 0.41241139020250983\n",
      "Average Precision Score: 0.6135543773079232\n",
      "Average Recall Score:\t 0.31154127002962173 \n",
      "\n",
      "{'max_depth': 125, 'min_samples_split': 200, 'n_estimators': 100}\n",
      "Average Accuracy Score:\t 0.8063555555555556\n",
      "Average F1 Score:\t 0.4146222774909637\n",
      "Average Precision Score: 0.6248960681324275\n",
      "Average Recall Score:\t 0.3107385879840105 \n",
      "\n"
     ]
    }
   ],
   "source": [
    "# Random Forest Classifier GridSearchCV Results\n",
    "results_RF = RF_CV.cv_results_\n",
    "for i in range(len(results_RF['params'])):\n",
    "    print(results_RF['params'][i])\n",
    "    print('Average Accuracy Score:\\t', results_RF['mean_test_accuracy'][i])\n",
    "    print('Average F1 Score:\\t', results_RF['mean_test_f1'][i])\n",
    "    print('Average Precision Score:', results_RF['mean_test_precision'][i])\n",
    "    print('Average Recall Score:\\t', results_RF['mean_test_recall'][i],'\\n')    "
   ]
  },
  {
   "cell_type": "markdown",
   "metadata": {},
   "source": [
    "##### Gaussian Naive Bayes does not have relevant parameter tuning"
   ]
  },
  {
   "cell_type": "code",
   "execution_count": 218,
   "metadata": {},
   "outputs": [
    {
     "name": "stdout",
     "output_type": "stream",
     "text": [
      "Average Accuracy Score:\t 0.7798219766289339\n",
      "Average Precision Score: 0.5780626780626781\n",
      "Average Recall Score:\t 0.034997436276361885\n",
      "Average F1 Score:\t 0.06529645711553543\n"
     ]
    }
   ],
   "source": [
    "# Gaussian Naive Bayes Classifier\n",
    "modelNB.fit(X_train, y_train)\n",
    "NB_CV = cross_validate(modelNB, X_train, y_train, scoring = scoring)\n",
    "print('Average Accuracy Score:\\t', np.mean(NB_CV['test_accuracy']))\n",
    "print('Average Precision Score:', np.mean(NB_CV['test_precision']))\n",
    "print('Average Recall Score:\\t', np.mean(NB_CV['test_recall']))\n",
    "print('Average F1 Score:\\t', np.mean(NB_CV['test_f1']))"
   ]
  },
  {
   "cell_type": "markdown",
   "metadata": {},
   "source": [
    "The accuracy score lets us know how many clients were correctly identified as either defaulting or not defaulting for all the predictions. The precision score lets us know how many of the clients classified as defaulting are actually defaulting. Recall lets us know how many of the defaulting customers were predicted to default. The F1 score combines the precision and recall to give us one score. Precision is important, because we do not want to overclassify potential good customers as defaulting customers. Recall is important, because we do not want to give out loans to customers that are likely to default. Therefore, the accuracy score and f1 score will give us a pretty good idea of which model to choose. Based on the accuracy and f1 score, the Random Forest Classifier with a `max_depth: 125`, `'min_samples_split': 200` and `'n_estimators': 100` is the best model."
   ]
  },
  {
   "cell_type": "code",
   "execution_count": 222,
   "metadata": {},
   "outputs": [
    {
     "data": {
      "text/plain": [
       "RandomForestClassifier(bootstrap=True, class_weight=None, criterion='gini',\n",
       "            max_depth=125, max_features='auto', max_leaf_nodes=None,\n",
       "            min_impurity_decrease=0.0, min_impurity_split=None,\n",
       "            min_samples_leaf=1, min_samples_split=200,\n",
       "            min_weight_fraction_leaf=0.0, n_estimators=100, n_jobs=None,\n",
       "            oob_score=False, random_state=None, verbose=0,\n",
       "            warm_start=False)"
      ]
     },
     "execution_count": 222,
     "metadata": {},
     "output_type": "execute_result"
    }
   ],
   "source": [
    "# Best Model\n",
    "best_model = RandomForestClassifier(max_depth = 125, min_samples_split = 200, n_estimators = 100)\n",
    "best_model.fit(X_train,y_train)"
   ]
  },
  {
   "cell_type": "code",
   "execution_count": 223,
   "metadata": {},
   "outputs": [],
   "source": [
    "# predictions \n",
    "predictions = best_model.predict(X_test)"
   ]
  },
  {
   "cell_type": "code",
   "execution_count": 224,
   "metadata": {},
   "outputs": [
    {
     "name": "stdout",
     "output_type": "stream",
     "text": [
      "Accuracy:\t 0.8034666666666667\n",
      "Precision:\t 0.6196473551637279\n",
      "Recall:\t\t 0.2956730769230769\n",
      "F1 Score:\t 0.40032546786004874\n"
     ]
    }
   ],
   "source": [
    "# performance\n",
    "print('Accuracy:\\t', mt.accuracy_score(y_test,predictions))\n",
    "print('Precision:\\t', mt.precision_score(y_test,predictions))\n",
    "print('Recall:\\t\\t', mt.recall_score(y_test,predictions))\n",
    "print('F1 Score:\\t', mt.f1_score(y_test,predictions))"
   ]
  },
  {
   "cell_type": "code",
   "execution_count": null,
   "metadata": {},
   "outputs": [],
   "source": []
  }
 ],
 "metadata": {
  "kernelspec": {
   "display_name": "Python 3",
   "language": "python",
   "name": "python3"
  },
  "language_info": {
   "codemirror_mode": {
    "name": "ipython",
    "version": 3
   },
   "file_extension": ".py",
   "mimetype": "text/x-python",
   "name": "python",
   "nbconvert_exporter": "python",
   "pygments_lexer": "ipython3",
   "version": "3.6.5"
  }
 },
 "nbformat": 4,
 "nbformat_minor": 2
}
